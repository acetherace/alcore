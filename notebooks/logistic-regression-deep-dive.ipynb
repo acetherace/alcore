{
 "cells": [
  {
   "cell_type": "code",
   "execution_count": 1,
   "metadata": {},
   "outputs": [],
   "source": [
    "import numpy as np\n",
    "import pandas as pd\n",
    "import matplotlib.pyplot as plt\n",
    "%matplotlib inline\n",
    "from sklearn.linear_model import LogisticRegression\n",
    "from dataclasses import dataclass, field"
   ]
  },
  {
   "cell_type": "code",
   "execution_count": 2,
   "metadata": {},
   "outputs": [
    {
     "data": {
      "text/plain": [
       "'0.20.1'"
      ]
     },
     "execution_count": 2,
     "metadata": {},
     "output_type": "execute_result"
    }
   ],
   "source": [
    "import sklearn; sklearn.__version__"
   ]
  },
  {
   "cell_type": "code",
   "execution_count": 3,
   "metadata": {},
   "outputs": [],
   "source": [
    "np.random.seed(123)"
   ]
  },
  {
   "cell_type": "code",
   "execution_count": 4,
   "metadata": {},
   "outputs": [],
   "source": [
    "class Hyperplane:\n",
    "    def __init__(self, v:np.ndarray, x_range=[-8,8], label=None, color='black', alpha=1.0):\n",
    "        self.v = v\n",
    "        self.x = np.linspace(x_range[0], x_range[1])\n",
    "        self.y = self.hyperplane_y(self.x, self.v)\n",
    "        self.label, self.color, self.alpha = label, color, alpha\n",
    "    \n",
    "    @staticmethod\n",
    "    def hyperplane_y(hyperplane_x, w): \n",
    "        \"\"\"\n",
    "        Given a vector of x-coordinates, return the vector of y-coordinates\n",
    "        that correspond to the hyperplan defined by w\n",
    "        \"\"\"\n",
    "        return (-hyperplane_x*w[0]) / w[1]\n",
    "\n",
    "    def plot(self, ax):\n",
    "        ax.plot(self.x, self.y, color=self.color, label=self.label, alpha=self.alpha)\n",
    "        return ax\n",
    "    \n",
    "@dataclass\n",
    "class PointCloud:\n",
    "    df: pd.DataFrame\n",
    "    class_0_color: str = 'tab:blue'\n",
    "    class_0_name: str = 'Class 0'\n",
    "    class_1_color: str = 'tab:orange'\n",
    "    class_1_name: str = 'Class 1'\n",
    "    alpha: float = 1.0\n",
    "    \n",
    "    def plot(self, ax):\n",
    "        ax.scatter(df.query('y==0')['x1'], df.query('y==0')['x2'], color=self.class_0_color, \n",
    "                   label=self.class_0_name, alpha=self.alpha)\n",
    "        ax.scatter(df.query('y==1')['x1'], df.query('y==1')['x2'], color=self.class_1_color,\n",
    "                   label=self.class_1_name, alpha=self.alpha)\n",
    "        return ax\n",
    "    \n",
    "@dataclass\n",
    "class ExtraPoint:\n",
    "    x: np.ndarray\n",
    "    color: str = 'black'\n",
    "    label: str = None\n",
    "    size: int = 20\n",
    "    alpha: float = 1.0\n",
    "        \n",
    "    def plot(self, ax):\n",
    "        ax.scatter(self.x[0], self.x[1], color=self.color, label=self.label, s=self.size,\n",
    "                   alpha=self.alpha)\n",
    "        return ax\n",
    "    \n",
    "@dataclass\n",
    "class Vector:\n",
    "    v: np.ndarray\n",
    "    color: str = 'black'\n",
    "    label: str = None\n",
    "    alpha: float = 1.0\n",
    "    label_offset: tuple = (.005, .005)\n",
    "    label_fontsize: int = 18\n",
    "        \n",
    "    def plot(self, ax):\n",
    "        ax.quiver(0,0, self.v[0], self.v[1], scale_units='xy', scale=1, color=self.color,\n",
    "                  label=self.label, alpha=self.alpha)\n",
    "        if self.label is not None:\n",
    "            ax.text(self.v[0]+self.label_offset[0], self.v[1]+self.label_offset[1], self.label,\n",
    "                    fontsize=self.label_fontsize, color=self.color, alpha=self.alpha)\n",
    "        return ax"
   ]
  },
  {
   "cell_type": "code",
   "execution_count": 5,
   "metadata": {},
   "outputs": [],
   "source": [
    "def plot_state(draw_objs, xlim=(-5,5), ylim=(-5,5), figsize=(8,8), grid=False, legend=False, title=None):\n",
    "    fig, ax = plt.subplots(figsize=figsize)\n",
    "    ax.set_aspect('equal')\n",
    "\n",
    "    for obj in draw_objs:\n",
    "        ax = obj.plot(ax)\n",
    "\n",
    "    ax.set_xlim(*xlim); ax.set_ylim(*ylim)\n",
    "    if grid: ax.grid()\n",
    "    if legend: ax.legend()\n",
    "    ax.set_title(title)\n",
    "    plt.show()\n",
    "    return ax"
   ]
  },
  {
   "cell_type": "code",
   "execution_count": 6,
   "metadata": {},
   "outputs": [],
   "source": [
    "def sigmoid(x): return 1/(1+np.exp(-x))"
   ]
  },
  {
   "cell_type": "code",
   "execution_count": 7,
   "metadata": {},
   "outputs": [],
   "source": [
    "def lr_predict_proba(w, x):\n",
    "    return sigmoid(float(w.T @ x))"
   ]
  },
  {
   "cell_type": "code",
   "execution_count": 8,
   "metadata": {},
   "outputs": [],
   "source": [
    "draw_objs = []"
   ]
  },
  {
   "cell_type": "markdown",
   "metadata": {},
   "source": [
    "## generate data"
   ]
  },
  {
   "cell_type": "code",
   "execution_count": 9,
   "metadata": {},
   "outputs": [
    {
     "name": "stdout",
     "output_type": "stream",
     "text": [
      "(200, 3)\n"
     ]
    },
    {
     "data": {
      "text/html": [
       "<div>\n",
       "<style scoped>\n",
       "    .dataframe tbody tr th:only-of-type {\n",
       "        vertical-align: middle;\n",
       "    }\n",
       "\n",
       "    .dataframe tbody tr th {\n",
       "        vertical-align: top;\n",
       "    }\n",
       "\n",
       "    .dataframe thead th {\n",
       "        text-align: right;\n",
       "    }\n",
       "</style>\n",
       "<table border=\"1\" class=\"dataframe\">\n",
       "  <thead>\n",
       "    <tr style=\"text-align: right;\">\n",
       "      <th></th>\n",
       "      <th>x1</th>\n",
       "      <th>x2</th>\n",
       "      <th>y</th>\n",
       "    </tr>\n",
       "  </thead>\n",
       "  <tbody>\n",
       "    <tr>\n",
       "      <th>0</th>\n",
       "      <td>-3.408304</td>\n",
       "      <td>-1.665561</td>\n",
       "      <td>0</td>\n",
       "    </tr>\n",
       "    <tr>\n",
       "      <th>1</th>\n",
       "      <td>-2.263243</td>\n",
       "      <td>-3.760257</td>\n",
       "      <td>0</td>\n",
       "    </tr>\n",
       "    <tr>\n",
       "      <th>2</th>\n",
       "      <td>-2.984092</td>\n",
       "      <td>-1.118309</td>\n",
       "      <td>0</td>\n",
       "    </tr>\n",
       "    <tr>\n",
       "      <th>3</th>\n",
       "      <td>-4.530306</td>\n",
       "      <td>-2.858854</td>\n",
       "      <td>0</td>\n",
       "    </tr>\n",
       "    <tr>\n",
       "      <th>4</th>\n",
       "      <td>-1.440842</td>\n",
       "      <td>-3.225167</td>\n",
       "      <td>0</td>\n",
       "    </tr>\n",
       "  </tbody>\n",
       "</table>\n",
       "</div>"
      ],
      "text/plain": [
       "         x1        x2  y\n",
       "0 -3.408304 -1.665561  0\n",
       "1 -2.263243 -3.760257  0\n",
       "2 -2.984092 -1.118309  0\n",
       "3 -4.530306 -2.858854  0\n",
       "4 -1.440842 -3.225167  0"
      ]
     },
     "execution_count": 9,
     "metadata": {},
     "output_type": "execute_result"
    }
   ],
   "source": [
    "n0 = 100; n1 = 100; var=0.7\n",
    "c0 = np.random.multivariate_normal([-2.5,-2.5], [[var,0],[0,var]], n0)\n",
    "c1 = np.random.multivariate_normal([2.5,2.5], [[var,0],[0,var]], n1)\n",
    "df = pd.DataFrame(np.concatenate([c0, c1], axis=0), columns=['x1', 'x2'])\n",
    "df['y'] = [0]*n0 + [1]*n1\n",
    "print(df.shape)\n",
    "df.head()"
   ]
  },
  {
   "cell_type": "code",
   "execution_count": 10,
   "metadata": {},
   "outputs": [],
   "source": [
    "pc = PointCloud(df)\n",
    "draw_objs.append(pc)"
   ]
  },
  {
   "cell_type": "code",
   "execution_count": 11,
   "metadata": {},
   "outputs": [
    {
     "data": {
      "image/png": "[encoded data removed]",
      "text/plain": [
       "<Figure size 576x576 with 1 Axes>"
      ]
     },
     "metadata": {
      "needs_background": "light"
     },
     "output_type": "display_data"
    }
   ],
   "source": [
    "_ = plot_state(draw_objs, legend=True, title='Binary Classification Data')"
   ]
  },
  {
   "cell_type": "markdown",
   "metadata": {},
   "source": [
    "## fit decision boundary"
   ]
  },
  {
   "cell_type": "code",
   "execution_count": 12,
   "metadata": {},
   "outputs": [],
   "source": [
    "# lr = LogisticRegression(fit_intercept=False, solver='lbfgs')\n",
    "# lr.fit(X=df[['x1', 'x2']], y=df['y'])"
   ]
  },
  {
   "cell_type": "code",
   "execution_count": 13,
   "metadata": {},
   "outputs": [],
   "source": [
    "# lr.coef_, lr.intercept_"
   ]
  },
  {
   "cell_type": "code",
   "execution_count": 14,
   "metadata": {},
   "outputs": [],
   "source": [
    "# w = Vector(v=lr.coef_.reshape(-1,1), color='black', label='w')\n",
    "# w"
   ]
  },
  {
   "cell_type": "code",
   "execution_count": 15,
   "metadata": {},
   "outputs": [],
   "source": [
    "w = Vector(v=np.array([1., 1.]).reshape(-1,1), color='black', label='w', label_offset=[0.01, -.2])\n",
    "draw_objs.append(w)"
   ]
  },
  {
   "cell_type": "markdown",
   "metadata": {},
   "source": [
    "## create decision boundary hyperplane"
   ]
  },
  {
   "cell_type": "code",
   "execution_count": 16,
   "metadata": {},
   "outputs": [],
   "source": [
    "db = Hyperplane(w.v, label='Decision Boundary', color='black')\n",
    "draw_objs.append(db)"
   ]
  },
  {
   "cell_type": "code",
   "execution_count": 17,
   "metadata": {},
   "outputs": [],
   "source": [
    "pc.alpha = 0.5"
   ]
  },
  {
   "cell_type": "code",
   "execution_count": 18,
   "metadata": {},
   "outputs": [
    {
     "data": {
      "image/png": "[encoded data removed]",
      "text/plain": [
       "<Figure size 576x576 with 1 Axes>"
      ]
     },
     "metadata": {
      "needs_background": "light"
     },
     "output_type": "display_data"
    }
   ],
   "source": [
    "_ = plot_state(draw_objs, title='Decision Boundary Hyperplane')"
   ]
  },
  {
   "cell_type": "markdown",
   "metadata": {},
   "source": [
    "## add incorrectly classified point"
   ]
  },
  {
   "cell_type": "code",
   "execution_count": 19,
   "metadata": {},
   "outputs": [
    {
     "data": {
      "text/plain": [
       "ExtraPoint(x=array([[-3],\n",
       "       [ 1]]), color='tab:orange', label='Class 1', size=100, alpha=1.0)"
      ]
     },
     "execution_count": 19,
     "metadata": {},
     "output_type": "execute_result"
    }
   ],
   "source": [
    "x = ExtraPoint(x=np.array([-3, 1]).reshape(-1,1), color='tab:orange', label='Class 1', size=100)\n",
    "draw_objs.append(x)\n",
    "x"
   ]
  },
  {
   "cell_type": "code",
   "execution_count": 20,
   "metadata": {},
   "outputs": [],
   "source": [
    "w.alpha = 0.5\n",
    "db.alpha = 0.5"
   ]
  },
  {
   "cell_type": "code",
   "execution_count": 21,
   "metadata": {},
   "outputs": [
    {
     "data": {
      "image/png": "[encoded data removed]",
      "text/plain": [
       "<Figure size 576x576 with 1 Axes>"
      ]
     },
     "metadata": {
      "needs_background": "light"
     },
     "output_type": "display_data"
    }
   ],
   "source": [
    "_ = plot_state(draw_objs, title='Introduce Incorrectly Classified Point')"
   ]
  },
  {
   "cell_type": "markdown",
   "metadata": {},
   "source": [
    "## compute gradient wrt that point"
   ]
  },
  {
   "cell_type": "code",
   "execution_count": 22,
   "metadata": {},
   "outputs": [
    {
     "data": {
      "text/plain": [
       "0.11920292202211755"
      ]
     },
     "execution_count": 22,
     "metadata": {},
     "output_type": "execute_result"
    }
   ],
   "source": [
    "sigma = lr_predict_proba(w.v, x.x)\n",
    "sigma"
   ]
  },
  {
   "cell_type": "code",
   "execution_count": 23,
   "metadata": {},
   "outputs": [],
   "source": [
    "y = 1"
   ]
  },
  {
   "cell_type": "code",
   "execution_count": 24,
   "metadata": {},
   "outputs": [
    {
     "data": {
      "text/plain": [
       "Vector(v=array([[-2.64239123],\n",
       "       [ 0.88079708]]), color='red', label='gradient', alpha=1.0, label_offset=[-1.4, -0.6], label_fontsize=18)"
      ]
     },
     "execution_count": 24,
     "metadata": {},
     "output_type": "execute_result"
    }
   ],
   "source": [
    "grad = (y-sigma) * x.x\n",
    "grad = Vector(v=grad, color='red', label='gradient', label_offset=[-1.4, -.6])\n",
    "draw_objs.append(grad)\n",
    "grad"
   ]
  },
  {
   "cell_type": "code",
   "execution_count": 25,
   "metadata": {},
   "outputs": [
    {
     "data": {
      "image/png": "[encoded data removed]",
      "text/plain": [
       "<Figure size 576x576 with 1 Axes>"
      ]
     },
     "metadata": {
      "needs_background": "light"
     },
     "output_type": "display_data"
    }
   ],
   "source": [
    "draw_objs.extend([x, grad])\n",
    "_ = plot_state(draw_objs, title='Gradient')"
   ]
  },
  {
   "cell_type": "markdown",
   "metadata": {},
   "source": [
    "## update w"
   ]
  },
  {
   "cell_type": "code",
   "execution_count": 26,
   "metadata": {},
   "outputs": [],
   "source": [
    "lr = 1e-1\n",
    "w_update = lr * grad.v"
   ]
  },
  {
   "cell_type": "code",
   "execution_count": 27,
   "metadata": {},
   "outputs": [
    {
     "data": {
      "text/plain": [
       "array([[-0.26423912],\n",
       "       [ 0.08807971]])"
      ]
     },
     "execution_count": 27,
     "metadata": {},
     "output_type": "execute_result"
    }
   ],
   "source": [
    "w_update"
   ]
  },
  {
   "cell_type": "code",
   "execution_count": 28,
   "metadata": {},
   "outputs": [
    {
     "data": {
      "text/plain": [
       "array([[1.],\n",
       "       [1.]])"
      ]
     },
     "execution_count": 28,
     "metadata": {},
     "output_type": "execute_result"
    }
   ],
   "source": [
    "w.v"
   ]
  },
  {
   "cell_type": "code",
   "execution_count": 29,
   "metadata": {},
   "outputs": [
    {
     "data": {
      "text/plain": [
       "array([[-0.26423912],\n",
       "       [ 0.08807971]])"
      ]
     },
     "execution_count": 29,
     "metadata": {},
     "output_type": "execute_result"
    }
   ],
   "source": [
    "w_update"
   ]
  },
  {
   "cell_type": "code",
   "execution_count": 30,
   "metadata": {},
   "outputs": [],
   "source": [
    "w_new = w.v + w_update\n",
    "w_new = Vector(w_new, color='black', label=\"w'\", label_offset=[-.5, -.0])\n",
    "draw_objs.append(w_new)"
   ]
  },
  {
   "cell_type": "code",
   "execution_count": 31,
   "metadata": {},
   "outputs": [
    {
     "data": {
      "text/plain": [
       "Vector(v=array([[0.73576088],\n",
       "       [1.08807971]]), color='black', label=\"w'\", alpha=1.0, label_offset=[-0.5, -0.0], label_fontsize=18)"
      ]
     },
     "execution_count": 31,
     "metadata": {},
     "output_type": "execute_result"
    }
   ],
   "source": [
    "w_new"
   ]
  },
  {
   "cell_type": "code",
   "execution_count": 32,
   "metadata": {},
   "outputs": [],
   "source": [
    "db_new = Hyperplane(v=w_new.v)\n",
    "draw_objs.append(db_new)"
   ]
  },
  {
   "cell_type": "code",
   "execution_count": 33,
   "metadata": {},
   "outputs": [],
   "source": [
    "db.alpha = 0.3\n",
    "w.alpha = 0.3\n",
    "w.label = None\n",
    "grad.label = None\n",
    "grad.alpha = 0.2\n",
    "x.alpha = 0.5"
   ]
  },
  {
   "cell_type": "code",
   "execution_count": 34,
   "metadata": {},
   "outputs": [
    {
     "data": {
      "image/png": "[encoded data removed]",
      "text/plain": [
       "<Figure size 576x576 with 1 Axes>"
      ]
     },
     "metadata": {
      "needs_background": "light"
     },
     "output_type": "display_data"
    }
   ],
   "source": [
    "_ = plot_state(draw_objs, title='Shifted Decision Boundary')"
   ]
  },
  {
   "cell_type": "code",
   "execution_count": null,
   "metadata": {},
   "outputs": [],
   "source": []
  },
  {
   "cell_type": "code",
   "execution_count": null,
   "metadata": {},
   "outputs": [],
   "source": []
  },
  {
   "cell_type": "code",
   "execution_count": null,
   "metadata": {},
   "outputs": [],
   "source": []
  }
 ],
 "metadata": {
  "kernelspec": {
   "display_name": "anaconda3",
   "language": "python",
   "name": "anaconda3"
  },
  "language_info": {
   "codemirror_mode": {
    "name": "ipython",
    "version": 3
   },
   "file_extension": ".py",
   "mimetype": "text/x-python",
   "name": "python",
   "nbconvert_exporter": "python",
   "pygments_lexer": "ipython3",
   "version": "3.6.8"
  }
 },
 "nbformat": 4,
 "nbformat_minor": 2
}
