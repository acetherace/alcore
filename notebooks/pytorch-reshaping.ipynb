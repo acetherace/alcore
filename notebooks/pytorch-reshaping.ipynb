{
 "cells": [
  {
   "cell_type": "code",
   "execution_count": 1,
   "metadata": {},
   "outputs": [],
   "source": [
    "import torch"
   ]
  },
  {
   "cell_type": "code",
   "execution_count": 2,
   "metadata": {},
   "outputs": [],
   "source": [
    "t = torch.arange(0, 5 * 4 * 3 * 2)"
   ]
  },
  {
   "cell_type": "code",
   "execution_count": 3,
   "metadata": {},
   "outputs": [
    {
     "data": {
      "text/plain": [
       "tensor([  0,   1,   2,   3,   4,   5,   6,   7,   8,   9,  10,  11,  12,  13,\n",
       "         14,  15,  16,  17,  18,  19,  20,  21,  22,  23,  24,  25,  26,  27,\n",
       "         28,  29,  30,  31,  32,  33,  34,  35,  36,  37,  38,  39,  40,  41,\n",
       "         42,  43,  44,  45,  46,  47,  48,  49,  50,  51,  52,  53,  54,  55,\n",
       "         56,  57,  58,  59,  60,  61,  62,  63,  64,  65,  66,  67,  68,  69,\n",
       "         70,  71,  72,  73,  74,  75,  76,  77,  78,  79,  80,  81,  82,  83,\n",
       "         84,  85,  86,  87,  88,  89,  90,  91,  92,  93,  94,  95,  96,  97,\n",
       "         98,  99, 100, 101, 102, 103, 104, 105, 106, 107, 108, 109, 110, 111,\n",
       "        112, 113, 114, 115, 116, 117, 118, 119])"
      ]
     },
     "execution_count": 3,
     "metadata": {},
     "output_type": "execute_result"
    }
   ],
   "source": [
    "t"
   ]
  },
  {
   "cell_type": "code",
   "execution_count": 5,
   "metadata": {},
   "outputs": [
    {
     "data": {
      "text/plain": [
       "tensor([[[  0,   1,   2,   3,   4,   5],\n",
       "         [  6,   7,   8,   9,  10,  11],\n",
       "         [ 12,  13,  14,  15,  16,  17],\n",
       "         [ 18,  19,  20,  21,  22,  23]],\n",
       "\n",
       "        [[ 24,  25,  26,  27,  28,  29],\n",
       "         [ 30,  31,  32,  33,  34,  35],\n",
       "         [ 36,  37,  38,  39,  40,  41],\n",
       "         [ 42,  43,  44,  45,  46,  47]],\n",
       "\n",
       "        [[ 48,  49,  50,  51,  52,  53],\n",
       "         [ 54,  55,  56,  57,  58,  59],\n",
       "         [ 60,  61,  62,  63,  64,  65],\n",
       "         [ 66,  67,  68,  69,  70,  71]],\n",
       "\n",
       "        [[ 72,  73,  74,  75,  76,  77],\n",
       "         [ 78,  79,  80,  81,  82,  83],\n",
       "         [ 84,  85,  86,  87,  88,  89],\n",
       "         [ 90,  91,  92,  93,  94,  95]],\n",
       "\n",
       "        [[ 96,  97,  98,  99, 100, 101],\n",
       "         [102, 103, 104, 105, 106, 107],\n",
       "         [108, 109, 110, 111, 112, 113],\n",
       "         [114, 115, 116, 117, 118, 119]]])"
      ]
     },
     "execution_count": 5,
     "metadata": {},
     "output_type": "execute_result"
    }
   ],
   "source": [
    "t2 = t.view(5, 4, 6)\n",
    "t2"
   ]
  },
  {
   "cell_type": "code",
   "execution_count": 7,
   "metadata": {},
   "outputs": [
    {
     "data": {
      "text/plain": [
       "tensor([[[[  0,   1],\n",
       "          [  2,   3],\n",
       "          [  4,   5]],\n",
       "\n",
       "         [[  6,   7],\n",
       "          [  8,   9],\n",
       "          [ 10,  11]],\n",
       "\n",
       "         [[ 12,  13],\n",
       "          [ 14,  15],\n",
       "          [ 16,  17]],\n",
       "\n",
       "         [[ 18,  19],\n",
       "          [ 20,  21],\n",
       "          [ 22,  23]]],\n",
       "\n",
       "\n",
       "        [[[ 24,  25],\n",
       "          [ 26,  27],\n",
       "          [ 28,  29]],\n",
       "\n",
       "         [[ 30,  31],\n",
       "          [ 32,  33],\n",
       "          [ 34,  35]],\n",
       "\n",
       "         [[ 36,  37],\n",
       "          [ 38,  39],\n",
       "          [ 40,  41]],\n",
       "\n",
       "         [[ 42,  43],\n",
       "          [ 44,  45],\n",
       "          [ 46,  47]]],\n",
       "\n",
       "\n",
       "        [[[ 48,  49],\n",
       "          [ 50,  51],\n",
       "          [ 52,  53]],\n",
       "\n",
       "         [[ 54,  55],\n",
       "          [ 56,  57],\n",
       "          [ 58,  59]],\n",
       "\n",
       "         [[ 60,  61],\n",
       "          [ 62,  63],\n",
       "          [ 64,  65]],\n",
       "\n",
       "         [[ 66,  67],\n",
       "          [ 68,  69],\n",
       "          [ 70,  71]]],\n",
       "\n",
       "\n",
       "        [[[ 72,  73],\n",
       "          [ 74,  75],\n",
       "          [ 76,  77]],\n",
       "\n",
       "         [[ 78,  79],\n",
       "          [ 80,  81],\n",
       "          [ 82,  83]],\n",
       "\n",
       "         [[ 84,  85],\n",
       "          [ 86,  87],\n",
       "          [ 88,  89]],\n",
       "\n",
       "         [[ 90,  91],\n",
       "          [ 92,  93],\n",
       "          [ 94,  95]]],\n",
       "\n",
       "\n",
       "        [[[ 96,  97],\n",
       "          [ 98,  99],\n",
       "          [100, 101]],\n",
       "\n",
       "         [[102, 103],\n",
       "          [104, 105],\n",
       "          [106, 107]],\n",
       "\n",
       "         [[108, 109],\n",
       "          [110, 111],\n",
       "          [112, 113]],\n",
       "\n",
       "         [[114, 115],\n",
       "          [116, 117],\n",
       "          [118, 119]]]])"
      ]
     },
     "execution_count": 7,
     "metadata": {},
     "output_type": "execute_result"
    }
   ],
   "source": [
    "t3 = t2.view(5, 4, 3, 2)\n",
    "t3"
   ]
  },
  {
   "cell_type": "markdown",
   "metadata": {},
   "source": [
    "---\n",
    "http://www.peterbloem.nl/blog/transformers"
   ]
  },
  {
   "cell_type": "code",
   "execution_count": 8,
   "metadata": {},
   "outputs": [],
   "source": [
    "k = 3\n",
    "heads = 4"
   ]
  },
  {
   "cell_type": "code",
   "execution_count": 12,
   "metadata": {},
   "outputs": [
    {
     "data": {
      "text/plain": [
       "tensor([0., 0., 0., 1., 1., 1., 2., 2., 2., 3., 3., 3.])"
      ]
     },
     "execution_count": 12,
     "metadata": {},
     "output_type": "execute_result"
    }
   ],
   "source": [
    "t = []\n",
    "for head_idx in range(heads):\n",
    "    t.append(torch.ones(k)*head_idx)\n",
    "t = torch.cat(t)\n",
    "tb"
   ]
  },
  {
   "cell_type": "code",
   "execution_count": 14,
   "metadata": {},
   "outputs": [
    {
     "data": {
      "text/plain": [
       " 0.0\n",
       " 0.0\n",
       " 0.0\n",
       " 1.0\n",
       " 1.0\n",
       " 1.0\n",
       " 2.0\n",
       " 2.0\n",
       " 2.0\n",
       " 3.0\n",
       " 3.0\n",
       " 3.0\n",
       "[torch.FloatStorage of size 12]"
      ]
     },
     "execution_count": 14,
     "metadata": {},
     "output_type": "execute_result"
    }
   ],
   "source": [
    "t.storage()"
   ]
  },
  {
   "cell_type": "code",
   "execution_count": 13,
   "metadata": {},
   "outputs": [
    {
     "data": {
      "text/plain": [
       "tensor([[0., 0., 0.],\n",
       "        [1., 1., 1.],\n",
       "        [2., 2., 2.],\n",
       "        [3., 3., 3.]])"
      ]
     },
     "execution_count": 13,
     "metadata": {},
     "output_type": "execute_result"
    }
   ],
   "source": [
    "t2 = t.view(heads, k)\n",
    "t2"
   ]
  },
  {
   "cell_type": "markdown",
   "metadata": {},
   "source": [
    "A reshaping operation like this reads data into the right-most dimensions sequentially"
   ]
  },
  {
   "cell_type": "code",
   "execution_count": 15,
   "metadata": {},
   "outputs": [],
   "source": [
    "t3 = t2.view(heads*k)"
   ]
  },
  {
   "cell_type": "code",
   "execution_count": 16,
   "metadata": {},
   "outputs": [
    {
     "data": {
      "text/plain": [
       "tensor([0., 0., 0., 1., 1., 1., 2., 2., 2., 3., 3., 3.])"
      ]
     },
     "execution_count": 16,
     "metadata": {},
     "output_type": "execute_result"
    }
   ],
   "source": [
    "t3"
   ]
  },
  {
   "cell_type": "code",
   "execution_count": null,
   "metadata": {},
   "outputs": [],
   "source": []
  },
  {
   "cell_type": "code",
   "execution_count": null,
   "metadata": {},
   "outputs": [],
   "source": []
  },
  {
   "cell_type": "code",
   "execution_count": 22,
   "metadata": {},
   "outputs": [],
   "source": [
    "b = 5\n",
    "t = 4\n",
    "h = 3\n",
    "k = 2"
   ]
  },
  {
   "cell_type": "code",
   "execution_count": 23,
   "metadata": {},
   "outputs": [
    {
     "data": {
      "text/plain": [
       "60"
      ]
     },
     "execution_count": 23,
     "metadata": {},
     "output_type": "execute_result"
    }
   ],
   "source": [
    "num_vecs = b*t*h\n",
    "num_vecs"
   ]
  },
  {
   "cell_type": "code",
   "execution_count": 27,
   "metadata": {},
   "outputs": [],
   "source": [
    "ten = torch.zeros(b,t,h,k)"
   ]
  },
  {
   "cell_type": "code",
   "execution_count": 28,
   "metadata": {},
   "outputs": [],
   "source": [
    "ki = 0\n",
    "for bi in range(b):\n",
    "    for ti in range(t):\n",
    "        for hi in range(h):\n",
    "            ten[bi, ti, hi] = torch.ones(2) * ki\n",
    "            ki += 1"
   ]
  },
  {
   "cell_type": "code",
   "execution_count": 29,
   "metadata": {},
   "outputs": [
    {
     "data": {
      "text/plain": [
       "tensor([[[[ 0.,  0.],\n",
       "          [ 1.,  1.],\n",
       "          [ 2.,  2.]],\n",
       "\n",
       "         [[ 3.,  3.],\n",
       "          [ 4.,  4.],\n",
       "          [ 5.,  5.]],\n",
       "\n",
       "         [[ 6.,  6.],\n",
       "          [ 7.,  7.],\n",
       "          [ 8.,  8.]],\n",
       "\n",
       "         [[ 9.,  9.],\n",
       "          [10., 10.],\n",
       "          [11., 11.]]],\n",
       "\n",
       "\n",
       "        [[[12., 12.],\n",
       "          [13., 13.],\n",
       "          [14., 14.]],\n",
       "\n",
       "         [[15., 15.],\n",
       "          [16., 16.],\n",
       "          [17., 17.]],\n",
       "\n",
       "         [[18., 18.],\n",
       "          [19., 19.],\n",
       "          [20., 20.]],\n",
       "\n",
       "         [[21., 21.],\n",
       "          [22., 22.],\n",
       "          [23., 23.]]],\n",
       "\n",
       "\n",
       "        [[[24., 24.],\n",
       "          [25., 25.],\n",
       "          [26., 26.]],\n",
       "\n",
       "         [[27., 27.],\n",
       "          [28., 28.],\n",
       "          [29., 29.]],\n",
       "\n",
       "         [[30., 30.],\n",
       "          [31., 31.],\n",
       "          [32., 32.]],\n",
       "\n",
       "         [[33., 33.],\n",
       "          [34., 34.],\n",
       "          [35., 35.]]],\n",
       "\n",
       "\n",
       "        [[[36., 36.],\n",
       "          [37., 37.],\n",
       "          [38., 38.]],\n",
       "\n",
       "         [[39., 39.],\n",
       "          [40., 40.],\n",
       "          [41., 41.]],\n",
       "\n",
       "         [[42., 42.],\n",
       "          [43., 43.],\n",
       "          [44., 44.]],\n",
       "\n",
       "         [[45., 45.],\n",
       "          [46., 46.],\n",
       "          [47., 47.]]],\n",
       "\n",
       "\n",
       "        [[[48., 48.],\n",
       "          [49., 49.],\n",
       "          [50., 50.]],\n",
       "\n",
       "         [[51., 51.],\n",
       "          [52., 52.],\n",
       "          [53., 53.]],\n",
       "\n",
       "         [[54., 54.],\n",
       "          [55., 55.],\n",
       "          [56., 56.]],\n",
       "\n",
       "         [[57., 57.],\n",
       "          [58., 58.],\n",
       "          [59., 59.]]]])"
      ]
     },
     "execution_count": 29,
     "metadata": {},
     "output_type": "execute_result"
    }
   ],
   "source": [
    "ten"
   ]
  },
  {
   "cell_type": "markdown",
   "metadata": {},
   "source": [
    "1-th batch, 2-th timestep, 1-th head"
   ]
  },
  {
   "cell_type": "code",
   "execution_count": 46,
   "metadata": {},
   "outputs": [
    {
     "data": {
      "text/plain": [
       "tensor([19., 19.])"
      ]
     },
     "execution_count": 46,
     "metadata": {},
     "output_type": "execute_result"
    }
   ],
   "source": [
    "ten[1, 2, 1]"
   ]
  },
  {
   "cell_type": "code",
   "execution_count": 34,
   "metadata": {},
   "outputs": [],
   "source": [
    "ten2 = ten.view(b*h, t, k)\n",
    "ten3 = ten.transpose(1, 2).contiguous().view(b*h, t, k)"
   ]
  },
  {
   "cell_type": "code",
   "execution_count": 47,
   "metadata": {},
   "outputs": [
    {
     "data": {
      "text/plain": [
       "tensor([18., 18.])"
      ]
     },
     "execution_count": 47,
     "metadata": {},
     "output_type": "execute_result"
    }
   ],
   "source": [
    "ten2[h+1, 2]"
   ]
  },
  {
   "cell_type": "code",
   "execution_count": 49,
   "metadata": {},
   "outputs": [
    {
     "data": {
      "text/plain": [
       "tensor([19., 19.])"
      ]
     },
     "execution_count": 49,
     "metadata": {},
     "output_type": "execute_result"
    }
   ],
   "source": [
    "ten3[h+1, 2]"
   ]
  },
  {
   "cell_type": "markdown",
   "metadata": {},
   "source": [
    "Note that `ten2` and `ten3` are not the same"
   ]
  },
  {
   "cell_type": "code",
   "execution_count": 35,
   "metadata": {},
   "outputs": [
    {
     "data": {
      "text/plain": [
       "(torch.Size([15, 4, 2]), torch.Size([15, 4, 2]))"
      ]
     },
     "execution_count": 35,
     "metadata": {},
     "output_type": "execute_result"
    }
   ],
   "source": [
    "ten2.shape, ten3.shape"
   ]
  },
  {
   "cell_type": "code",
   "execution_count": 36,
   "metadata": {},
   "outputs": [
    {
     "data": {
      "text/plain": [
       "tensor([[[ 0.,  0.],\n",
       "         [ 1.,  1.],\n",
       "         [ 2.,  2.],\n",
       "         [ 3.,  3.]],\n",
       "\n",
       "        [[ 4.,  4.],\n",
       "         [ 5.,  5.],\n",
       "         [ 6.,  6.],\n",
       "         [ 7.,  7.]],\n",
       "\n",
       "        [[ 8.,  8.],\n",
       "         [ 9.,  9.],\n",
       "         [10., 10.],\n",
       "         [11., 11.]],\n",
       "\n",
       "        [[12., 12.],\n",
       "         [13., 13.],\n",
       "         [14., 14.],\n",
       "         [15., 15.]],\n",
       "\n",
       "        [[16., 16.],\n",
       "         [17., 17.],\n",
       "         [18., 18.],\n",
       "         [19., 19.]],\n",
       "\n",
       "        [[20., 20.],\n",
       "         [21., 21.],\n",
       "         [22., 22.],\n",
       "         [23., 23.]],\n",
       "\n",
       "        [[24., 24.],\n",
       "         [25., 25.],\n",
       "         [26., 26.],\n",
       "         [27., 27.]],\n",
       "\n",
       "        [[28., 28.],\n",
       "         [29., 29.],\n",
       "         [30., 30.],\n",
       "         [31., 31.]],\n",
       "\n",
       "        [[32., 32.],\n",
       "         [33., 33.],\n",
       "         [34., 34.],\n",
       "         [35., 35.]],\n",
       "\n",
       "        [[36., 36.],\n",
       "         [37., 37.],\n",
       "         [38., 38.],\n",
       "         [39., 39.]],\n",
       "\n",
       "        [[40., 40.],\n",
       "         [41., 41.],\n",
       "         [42., 42.],\n",
       "         [43., 43.]],\n",
       "\n",
       "        [[44., 44.],\n",
       "         [45., 45.],\n",
       "         [46., 46.],\n",
       "         [47., 47.]],\n",
       "\n",
       "        [[48., 48.],\n",
       "         [49., 49.],\n",
       "         [50., 50.],\n",
       "         [51., 51.]],\n",
       "\n",
       "        [[52., 52.],\n",
       "         [53., 53.],\n",
       "         [54., 54.],\n",
       "         [55., 55.]],\n",
       "\n",
       "        [[56., 56.],\n",
       "         [57., 57.],\n",
       "         [58., 58.],\n",
       "         [59., 59.]]])"
      ]
     },
     "execution_count": 36,
     "metadata": {},
     "output_type": "execute_result"
    }
   ],
   "source": [
    "ten2"
   ]
  },
  {
   "cell_type": "code",
   "execution_count": 37,
   "metadata": {},
   "outputs": [
    {
     "data": {
      "text/plain": [
       "tensor([[[ 0.,  0.],\n",
       "         [ 3.,  3.],\n",
       "         [ 6.,  6.],\n",
       "         [ 9.,  9.]],\n",
       "\n",
       "        [[ 1.,  1.],\n",
       "         [ 4.,  4.],\n",
       "         [ 7.,  7.],\n",
       "         [10., 10.]],\n",
       "\n",
       "        [[ 2.,  2.],\n",
       "         [ 5.,  5.],\n",
       "         [ 8.,  8.],\n",
       "         [11., 11.]],\n",
       "\n",
       "        [[12., 12.],\n",
       "         [15., 15.],\n",
       "         [18., 18.],\n",
       "         [21., 21.]],\n",
       "\n",
       "        [[13., 13.],\n",
       "         [16., 16.],\n",
       "         [19., 19.],\n",
       "         [22., 22.]],\n",
       "\n",
       "        [[14., 14.],\n",
       "         [17., 17.],\n",
       "         [20., 20.],\n",
       "         [23., 23.]],\n",
       "\n",
       "        [[24., 24.],\n",
       "         [27., 27.],\n",
       "         [30., 30.],\n",
       "         [33., 33.]],\n",
       "\n",
       "        [[25., 25.],\n",
       "         [28., 28.],\n",
       "         [31., 31.],\n",
       "         [34., 34.]],\n",
       "\n",
       "        [[26., 26.],\n",
       "         [29., 29.],\n",
       "         [32., 32.],\n",
       "         [35., 35.]],\n",
       "\n",
       "        [[36., 36.],\n",
       "         [39., 39.],\n",
       "         [42., 42.],\n",
       "         [45., 45.]],\n",
       "\n",
       "        [[37., 37.],\n",
       "         [40., 40.],\n",
       "         [43., 43.],\n",
       "         [46., 46.]],\n",
       "\n",
       "        [[38., 38.],\n",
       "         [41., 41.],\n",
       "         [44., 44.],\n",
       "         [47., 47.]],\n",
       "\n",
       "        [[48., 48.],\n",
       "         [51., 51.],\n",
       "         [54., 54.],\n",
       "         [57., 57.]],\n",
       "\n",
       "        [[49., 49.],\n",
       "         [52., 52.],\n",
       "         [55., 55.],\n",
       "         [58., 58.]],\n",
       "\n",
       "        [[50., 50.],\n",
       "         [53., 53.],\n",
       "         [56., 56.],\n",
       "         [59., 59.]]])"
      ]
     },
     "execution_count": 37,
     "metadata": {},
     "output_type": "execute_result"
    }
   ],
   "source": [
    "ten3"
   ]
  },
  {
   "cell_type": "markdown",
   "metadata": {},
   "source": [
    "---"
   ]
  },
  {
   "cell_type": "code",
   "execution_count": 62,
   "metadata": {},
   "outputs": [],
   "source": [
    "b, t, v = 2, 3, 4"
   ]
  },
  {
   "cell_type": "code",
   "execution_count": 63,
   "metadata": {},
   "outputs": [
    {
     "data": {
      "text/plain": [
       "tensor([ 0,  1,  2,  3,  4,  5,  6,  7,  8,  9, 10, 11, 12, 13, 14, 15, 16, 17,\n",
       "        18, 19, 20, 21, 22, 23])"
      ]
     },
     "execution_count": 63,
     "metadata": {},
     "output_type": "execute_result"
    }
   ],
   "source": [
    "ten = torch.arange(b*t*v)\n",
    "ten"
   ]
  },
  {
   "cell_type": "code",
   "execution_count": 65,
   "metadata": {},
   "outputs": [
    {
     "data": {
      "text/plain": [
       "tensor([[[ 0,  1,  2,  3],\n",
       "         [ 4,  5,  6,  7],\n",
       "         [ 8,  9, 10, 11]],\n",
       "\n",
       "        [[12, 13, 14, 15],\n",
       "         [16, 17, 18, 19],\n",
       "         [20, 21, 22, 23]]])"
      ]
     },
     "execution_count": 65,
     "metadata": {},
     "output_type": "execute_result"
    }
   ],
   "source": [
    "ten = ten.view(b, t, v)\n",
    "ten"
   ]
  },
  {
   "cell_type": "markdown",
   "metadata": {},
   "source": [
    "If there are d dimensions, it holds d-1 dimensions fixed and iterates over the dth dimension like...\n",
    "\n",
    "```\n",
    "d1 d2 d3\n",
    " 0  0  0\n",
    " 0  0  1\n",
    " 0  0  2\n",
    " 0  0  3\n",
    " 0  1  0\n",
    " 0  1  1\n",
    "    .\n",
    "    .\n",
    "    .\n",
    " 0  2  3\n",
    " 1  0  0\n",
    "    .\n",
    "    .\n",
    "    .\n",
    "```"
   ]
  },
  {
   "cell_type": "markdown",
   "metadata": {},
   "source": [
    "Unexpected behavior with reshaping/viewing"
   ]
  },
  {
   "cell_type": "code",
   "execution_count": 61,
   "metadata": {},
   "outputs": [],
   "source": [
    "ten2 = ten.view(b*v, t)\n",
    "ten3 = ten.transpose(1, 2).contiguous().view(b*v, t)"
   ]
  },
  {
   "cell_type": "markdown",
   "metadata": {},
   "source": [
    "Batch elements are now found with a stride of `v` along the 0th dimension"
   ]
  },
  {
   "cell_type": "markdown",
   "metadata": {},
   "source": [
    "Batch 1:"
   ]
  },
  {
   "cell_type": "code",
   "execution_count": 69,
   "metadata": {},
   "outputs": [
    {
     "data": {
      "text/plain": [
       "tensor([[12, 16, 20],\n",
       "        [13, 17, 21],\n",
       "        [14, 18, 22],\n",
       "        [15, 19, 23]])"
      ]
     },
     "execution_count": 69,
     "metadata": {},
     "output_type": "execute_result"
    }
   ],
   "source": [
    "ten[1].t()"
   ]
  },
  {
   "cell_type": "code",
   "execution_count": 66,
   "metadata": {},
   "outputs": [
    {
     "data": {
      "text/plain": [
       "tensor([[12, 13, 14],\n",
       "        [15, 16, 17],\n",
       "        [18, 19, 20],\n",
       "        [21, 22, 23]])"
      ]
     },
     "execution_count": 66,
     "metadata": {},
     "output_type": "execute_result"
    }
   ],
   "source": [
    "ten2[v*1:v*2]"
   ]
  },
  {
   "cell_type": "code",
   "execution_count": 67,
   "metadata": {},
   "outputs": [
    {
     "data": {
      "text/plain": [
       "tensor([[12, 16, 20],\n",
       "        [13, 17, 21],\n",
       "        [14, 18, 22],\n",
       "        [15, 19, 23]])"
      ]
     },
     "execution_count": 67,
     "metadata": {},
     "output_type": "execute_result"
    }
   ],
   "source": [
    "ten3[v*1:v*2]"
   ]
  },
  {
   "cell_type": "markdown",
   "metadata": {},
   "source": [
    "---"
   ]
  },
  {
   "cell_type": "markdown",
   "metadata": {},
   "source": [
    "```\n",
    "cities, months, timeofday\n",
    "c       m       t\n",
    "```"
   ]
  },
  {
   "cell_type": "code",
   "execution_count": 70,
   "metadata": {},
   "outputs": [],
   "source": [
    "c = 2\n",
    "m = 3\n",
    "t = 4"
   ]
  },
  {
   "cell_type": "code",
   "execution_count": 75,
   "metadata": {},
   "outputs": [],
   "source": [
    "cities = {\n",
    "    'denver': 0,\n",
    "    'orlando': 1\n",
    "}\n",
    "months = {\n",
    "    'january': 0,\n",
    "    'february': 1,\n",
    "    'march': 2\n",
    "}\n",
    "times = {\n",
    "    'morning': 0,\n",
    "    'afternoon': 1,\n",
    "    'night': 2,\n",
    "    'late-night'; 3\n",
    "}"
   ]
  },
  {
   "cell_type": "code",
   "execution_count": 71,
   "metadata": {},
   "outputs": [
    {
     "data": {
      "text/plain": [
       "tensor([[[ 0,  1,  2,  3],\n",
       "         [ 4,  5,  6,  7],\n",
       "         [ 8,  9, 10, 11]],\n",
       "\n",
       "        [[12, 13, 14, 15],\n",
       "         [16, 17, 18, 19],\n",
       "         [20, 21, 22, 23]]])"
      ]
     },
     "execution_count": 71,
     "metadata": {},
     "output_type": "execute_result"
    }
   ],
   "source": [
    "ten = torch.arange(c*m*t).view(c,m,t)\n",
    "ten"
   ]
  },
  {
   "cell_type": "markdown",
   "metadata": {},
   "source": [
    "Number of live bands playing in Denver in the Night for each Month"
   ]
  },
  {
   "cell_type": "code",
   "execution_count": 76,
   "metadata": {},
   "outputs": [
    {
     "data": {
      "text/plain": [
       "tensor([ 2,  6, 10])"
      ]
     },
     "execution_count": 76,
     "metadata": {},
     "output_type": "execute_result"
    }
   ],
   "source": [
    "ten[cities['denver'], :, times['night']]"
   ]
  },
  {
   "cell_type": "markdown",
   "metadata": {},
   "source": [
    "Fold city and timeofday dimensions together"
   ]
  },
  {
   "cell_type": "code",
   "execution_count": 79,
   "metadata": {},
   "outputs": [
    {
     "data": {
      "text/plain": [
       "tensor([[[ 0,  4,  8],\n",
       "         [ 1,  5,  9],\n",
       "         [ 2,  6, 10],\n",
       "         [ 3,  7, 11]],\n",
       "\n",
       "        [[12, 16, 20],\n",
       "         [13, 17, 21],\n",
       "         [14, 18, 22],\n",
       "         [15, 19, 23]]])"
      ]
     },
     "execution_count": 79,
     "metadata": {},
     "output_type": "execute_result"
    }
   ],
   "source": [
    "ten3_tmp = ten.transpose(1,2).contiguous()\n",
    "ten3_tmp"
   ]
  },
  {
   "cell_type": "code",
   "execution_count": 80,
   "metadata": {},
   "outputs": [
    {
     "data": {
      "text/plain": [
       "(torch.Size([8, 3]), torch.Size([8, 3]))"
      ]
     },
     "execution_count": 80,
     "metadata": {},
     "output_type": "execute_result"
    }
   ],
   "source": [
    "ten2 = ten.view(c*t, m)\n",
    "ten3 = ten3_tmp.view(c*t, m)\n",
    "ten2.shape, ten3.shape"
   ]
  },
  {
   "cell_type": "code",
   "execution_count": 73,
   "metadata": {},
   "outputs": [
    {
     "data": {
      "text/plain": [
       "tensor([[ 0,  1,  2],\n",
       "        [ 3,  4,  5],\n",
       "        [ 6,  7,  8],\n",
       "        [ 9, 10, 11],\n",
       "        [12, 13, 14],\n",
       "        [15, 16, 17],\n",
       "        [18, 19, 20],\n",
       "        [21, 22, 23]])"
      ]
     },
     "execution_count": 73,
     "metadata": {},
     "output_type": "execute_result"
    }
   ],
   "source": [
    "ten2"
   ]
  },
  {
   "cell_type": "code",
   "execution_count": 77,
   "metadata": {},
   "outputs": [
    {
     "data": {
      "text/plain": [
       "tensor([6, 7, 8])"
      ]
     },
     "execution_count": 77,
     "metadata": {},
     "output_type": "execute_result"
    }
   ],
   "source": [
    "ten2[cities['denver']*t + times['night']]"
   ]
  },
  {
   "cell_type": "code",
   "execution_count": 74,
   "metadata": {},
   "outputs": [
    {
     "data": {
      "text/plain": [
       "tensor([[ 0,  4,  8],\n",
       "        [ 1,  5,  9],\n",
       "        [ 2,  6, 10],\n",
       "        [ 3,  7, 11],\n",
       "        [12, 16, 20],\n",
       "        [13, 17, 21],\n",
       "        [14, 18, 22],\n",
       "        [15, 19, 23]])"
      ]
     },
     "execution_count": 74,
     "metadata": {},
     "output_type": "execute_result"
    }
   ],
   "source": [
    "ten3"
   ]
  },
  {
   "cell_type": "code",
   "execution_count": 78,
   "metadata": {},
   "outputs": [
    {
     "data": {
      "text/plain": [
       "tensor([ 2,  6, 10])"
      ]
     },
     "execution_count": 78,
     "metadata": {},
     "output_type": "execute_result"
    }
   ],
   "source": [
    "ten3[cities['denver']*t + times['night']]"
   ]
  },
  {
   "cell_type": "code",
   "execution_count": 81,
   "metadata": {},
   "outputs": [
    {
     "data": {
      "text/plain": [
       "tensor([ 0,  4,  8,  1,  5,  9,  2,  6, 10,  3,  7, 11, 12, 16, 20, 13, 17, 21,\n",
       "        14, 18, 22, 15, 19, 23])"
      ]
     },
     "execution_count": 81,
     "metadata": {},
     "output_type": "execute_result"
    }
   ],
   "source": [
    "ten3.reshape(-1)"
   ]
  },
  {
   "cell_type": "code",
   "execution_count": null,
   "metadata": {},
   "outputs": [],
   "source": []
  }
 ],
 "metadata": {
  "kernelspec": {
   "display_name": "anaconda3",
   "language": "python",
   "name": "anaconda3"
  },
  "language_info": {
   "codemirror_mode": {
    "name": "ipython",
    "version": 3
   },
   "file_extension": ".py",
   "mimetype": "text/x-python",
   "name": "python",
   "nbconvert_exporter": "python",
   "pygments_lexer": "ipython3",
   "version": "3.6.8"
  }
 },
 "nbformat": 4,
 "nbformat_minor": 2
}
