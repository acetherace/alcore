{
 "cells": [
  {
   "cell_type": "markdown",
   "metadata": {},
   "source": [
    "This notebook is an example of how to use a basic dot-product attention to aggregate a variable number of discrete variables. Dot product attention is performed over the embedding vectors for the discrete variables.\n",
    "\n",
    "For each embedding vector, $\\mathbf{e}_i$, compute an unnormalized attention energy by taking the dot product with a model parameter vector $\\mathbf{s}$:\n",
    "\n",
    "$$\n",
    "\\mathbf{u}_i = \\mathbf{e}_i^\\top \\mathbf{s}\n",
    "$$\n",
    "\n",
    "Attention energies for each embedding vector are computed at once using a matrix multiplication. Stack the $n$ embedding vectors into a matrix:\n",
    "\n",
    "$$\n",
    "\\mathbf{E} = \n",
    "\\begin{bmatrix}\n",
    "-\\mathbf{e}_1- \\\\\n",
    "-\\mathbf{e}_2- \\\\\n",
    "\\vdots \\\\\n",
    "-\\mathbf{e}_n-\n",
    "\\end{bmatrix}\n",
    "$$\n",
    "\n",
    "Then, compute a vector of attention energies $\\mathbf{u}$:\n",
    "\n",
    "$$\n",
    "\\mathbf{u} = \\mathbf{Es}\n",
    "$$\n",
    "\n",
    "Normalize these into a probability distribution:\n",
    "\n",
    "$$\n",
    "\\mathbf{n} = \\text{Softmax}(\\mathbf{u})\n",
    "$$\n",
    "\n",
    "Finally, compute the aggregated representation as a linear combination of the individual embedding vectors, weighted by the attention energies:\n",
    "\n",
    "$$\n",
    "\\mathbf{x} = \\mathbf{E}^\\top \\mathbf{n}\n",
    "$$"
   ]
  },
  {
   "cell_type": "code",
   "execution_count": 1,
   "metadata": {},
   "outputs": [],
   "source": [
    "import numpy as np\n",
    "import pandas as pd\n",
    "import torch\n",
    "import torch.nn as nn\n",
    "import torch.nn.functional as F\n",
    "from torch.utils.data import DataLoader, Dataset\n",
    "import pdb"
   ]
  },
  {
   "cell_type": "code",
   "execution_count": 2,
   "metadata": {},
   "outputs": [
    {
     "data": {
      "text/html": [
       "<div>\n",
       "<style scoped>\n",
       "    .dataframe tbody tr th:only-of-type {\n",
       "        vertical-align: middle;\n",
       "    }\n",
       "\n",
       "    .dataframe tbody tr th {\n",
       "        vertical-align: top;\n",
       "    }\n",
       "\n",
       "    .dataframe thead th {\n",
       "        text-align: right;\n",
       "    }\n",
       "</style>\n",
       "<table border=\"1\" class=\"dataframe\">\n",
       "  <thead>\n",
       "    <tr style=\"text-align: right;\">\n",
       "      <th></th>\n",
       "      <th>num_levels</th>\n",
       "    </tr>\n",
       "  </thead>\n",
       "  <tbody>\n",
       "    <tr>\n",
       "      <th>0</th>\n",
       "      <td>4</td>\n",
       "    </tr>\n",
       "    <tr>\n",
       "      <th>1</th>\n",
       "      <td>3</td>\n",
       "    </tr>\n",
       "    <tr>\n",
       "      <th>2</th>\n",
       "      <td>1</td>\n",
       "    </tr>\n",
       "    <tr>\n",
       "      <th>3</th>\n",
       "      <td>2</td>\n",
       "    </tr>\n",
       "    <tr>\n",
       "      <th>4</th>\n",
       "      <td>8</td>\n",
       "    </tr>\n",
       "  </tbody>\n",
       "</table>\n",
       "</div>"
      ],
      "text/plain": [
       "   num_levels\n",
       "0           4\n",
       "1           3\n",
       "2           1\n",
       "3           2\n",
       "4           8"
      ]
     },
     "execution_count": 2,
     "metadata": {},
     "output_type": "execute_result"
    }
   ],
   "source": [
    "df = pd.DataFrame({'num_levels': np.random.randint(1, 9, size=(100,))})\n",
    "df.head()"
   ]
  },
  {
   "cell_type": "code",
   "execution_count": 3,
   "metadata": {},
   "outputs": [],
   "source": [
    "df['levels'] = df.num_levels.apply(lambda x: np.random.randint(1,11, size=(x,)))"
   ]
  },
  {
   "cell_type": "code",
   "execution_count": 4,
   "metadata": {},
   "outputs": [
    {
     "data": {
      "text/html": [
       "<div>\n",
       "<style scoped>\n",
       "    .dataframe tbody tr th:only-of-type {\n",
       "        vertical-align: middle;\n",
       "    }\n",
       "\n",
       "    .dataframe tbody tr th {\n",
       "        vertical-align: top;\n",
       "    }\n",
       "\n",
       "    .dataframe thead th {\n",
       "        text-align: right;\n",
       "    }\n",
       "</style>\n",
       "<table border=\"1\" class=\"dataframe\">\n",
       "  <thead>\n",
       "    <tr style=\"text-align: right;\">\n",
       "      <th></th>\n",
       "      <th>num_levels</th>\n",
       "      <th>levels</th>\n",
       "    </tr>\n",
       "  </thead>\n",
       "  <tbody>\n",
       "    <tr>\n",
       "      <th>0</th>\n",
       "      <td>4</td>\n",
       "      <td>[8, 10, 4, 7]</td>\n",
       "    </tr>\n",
       "    <tr>\n",
       "      <th>1</th>\n",
       "      <td>3</td>\n",
       "      <td>[5, 7, 4]</td>\n",
       "    </tr>\n",
       "    <tr>\n",
       "      <th>2</th>\n",
       "      <td>1</td>\n",
       "      <td>[8]</td>\n",
       "    </tr>\n",
       "    <tr>\n",
       "      <th>3</th>\n",
       "      <td>2</td>\n",
       "      <td>[2, 4]</td>\n",
       "    </tr>\n",
       "    <tr>\n",
       "      <th>4</th>\n",
       "      <td>8</td>\n",
       "      <td>[1, 10, 2, 4, 4, 5, 9, 3]</td>\n",
       "    </tr>\n",
       "  </tbody>\n",
       "</table>\n",
       "</div>"
      ],
      "text/plain": [
       "   num_levels                     levels\n",
       "0           4              [8, 10, 4, 7]\n",
       "1           3                  [5, 7, 4]\n",
       "2           1                        [8]\n",
       "3           2                     [2, 4]\n",
       "4           8  [1, 10, 2, 4, 4, 5, 9, 3]"
      ]
     },
     "execution_count": 4,
     "metadata": {},
     "output_type": "execute_result"
    }
   ],
   "source": [
    "df.head()"
   ]
  },
  {
   "cell_type": "code",
   "execution_count": 5,
   "metadata": {},
   "outputs": [],
   "source": [
    "class MyDataset(Dataset):\n",
    "    def __init__(self, df, max_sz=10):\n",
    "        # each X_i is 1d and has shape (var_len)\n",
    "        self.X = [torch.tensor(x) for x in df.levels]\n",
    "        self.max_sz = max_sz\n",
    "        \n",
    "    def __len__(self): return len(self.X)\n",
    "        \n",
    "    def __getitem__(self, i): \n",
    "        x = self.X[i]\n",
    "        return F.pad(x, (0, self.max_sz-len(x)), value=0)"
   ]
  },
  {
   "cell_type": "code",
   "execution_count": 6,
   "metadata": {},
   "outputs": [
    {
     "data": {
      "text/plain": [
       "tensor([ 8, 10,  4,  7,  0,  0,  0,  0,  0,  0])"
      ]
     },
     "execution_count": 6,
     "metadata": {},
     "output_type": "execute_result"
    }
   ],
   "source": [
    "ds = MyDataset(df)\n",
    "next(iter(ds))"
   ]
  },
  {
   "cell_type": "code",
   "execution_count": 7,
   "metadata": {},
   "outputs": [],
   "source": [
    "dl = DataLoader(ds, batch_size=5, shuffle=False)"
   ]
  },
  {
   "cell_type": "code",
   "execution_count": 8,
   "metadata": {},
   "outputs": [
    {
     "data": {
      "text/plain": [
       "tensor([[ 8, 10,  4,  7,  0,  0,  0,  0,  0,  0],\n",
       "        [ 5,  7,  4,  0,  0,  0,  0,  0,  0,  0],\n",
       "        [ 8,  0,  0,  0,  0,  0,  0,  0,  0,  0],\n",
       "        [ 2,  4,  0,  0,  0,  0,  0,  0,  0,  0],\n",
       "        [ 1, 10,  2,  4,  4,  5,  9,  3,  0,  0]])"
      ]
     },
     "execution_count": 8,
     "metadata": {},
     "output_type": "execute_result"
    }
   ],
   "source": [
    "next(iter(dl))"
   ]
  },
  {
   "cell_type": "code",
   "execution_count": 9,
   "metadata": {},
   "outputs": [],
   "source": [
    "class AttnBOWAggregator(nn.Module):\n",
    "    def __init__(self, n_emb, emb_sz):\n",
    "        super().__init__()\n",
    "        self.emb = nn.Embedding(n_emb, emb_sz)\n",
    "        self.attn_nrg = nn.Linear(emb_sz, 1)\n",
    "        \n",
    "    def forward(self, x):\n",
    "        # x [bs, max_levels]\n",
    "        mask = x == 0  # [bs, max_levels]\n",
    "        x = self.emb(x)  # [bs, max_levels, emb_sz]\n",
    "        \n",
    "        # compute normalized attention energies\n",
    "        nrgs = self.attn_nrg(x).squeeze(2)  # [bs, max_levels]\n",
    "        nrgs = nrgs.masked_fill(mask, -1e18)\n",
    "        nrgs = F.softmax(nrgs, dim=1).unsqueeze(2)  # [bs, max_levels, 1]\n",
    "        \n",
    "        x = x.transpose(1,2)  # [bs, emb_sz, max_levels]\n",
    "        x = torch.bmm(x, nrgs)  # [bs, emb_sz, 1]\n",
    "        x = x.squeeze(2)  # [bs, emb_sz]\n",
    "        \n",
    "        return x"
   ]
  },
  {
   "cell_type": "code",
   "execution_count": 10,
   "metadata": {},
   "outputs": [],
   "source": [
    "m = AttnBOWAggregator(11, 5)"
   ]
  },
  {
   "cell_type": "code",
   "execution_count": 11,
   "metadata": {},
   "outputs": [],
   "source": [
    "xb = next(iter(dl))"
   ]
  },
  {
   "cell_type": "code",
   "execution_count": 12,
   "metadata": {},
   "outputs": [
    {
     "name": "stdout",
     "output_type": "stream",
     "text": [
      "torch.Size([5, 5])\n"
     ]
    },
    {
     "data": {
      "text/plain": [
       "tensor([[ 0.5052,  0.6485,  0.3360,  0.2359,  0.3457],\n",
       "        [ 0.6475,  0.5330, -0.4086,  0.9691,  0.7141],\n",
       "        [ 0.7085, -0.2934,  0.4703, -0.5907, -1.6166],\n",
       "        [ 1.1590, -0.3336, -0.0345, -0.2408,  0.4665],\n",
       "        [ 0.3007,  0.4601,  0.2272, -0.0333,  0.0281]],\n",
       "       grad_fn=<SqueezeBackward1>)"
      ]
     },
     "execution_count": 12,
     "metadata": {},
     "output_type": "execute_result"
    }
   ],
   "source": [
    "out = m(xb)\n",
    "print(out.shape)\n",
    "out"
   ]
  },
  {
   "cell_type": "code",
   "execution_count": null,
   "metadata": {},
   "outputs": [],
   "source": []
  }
 ],
 "metadata": {
  "kernelspec": {
   "display_name": "anaconda3",
   "language": "python",
   "name": "anaconda3"
  },
  "language_info": {
   "codemirror_mode": {
    "name": "ipython",
    "version": 3
   },
   "file_extension": ".py",
   "mimetype": "text/x-python",
   "name": "python",
   "nbconvert_exporter": "python",
   "pygments_lexer": "ipython3",
   "version": "3.6.8"
  }
 },
 "nbformat": 4,
 "nbformat_minor": 2
}
