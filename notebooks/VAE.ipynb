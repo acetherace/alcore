{
 "cells": [
  {
   "cell_type": "markdown",
   "metadata": {},
   "source": [
    "## Imports and Helpers"
   ]
  },
  {
   "cell_type": "code",
   "execution_count": 1,
   "metadata": {},
   "outputs": [],
   "source": [
    "import torch\n",
    "import torch.utils.data\n",
    "from torch.nn import functional as F\n",
    "from torch import nn, optim\n",
    "from torchvision import datasets, transforms\n",
    "from torchvision.utils import save_image\n",
    "\n",
    "from fastprogress import master_bar, progress_bar\n",
    "import matplotlib.pyplot as plt\n",
    "import numpy as np\n",
    "from scipy.stats import norm\n",
    "from pathlib import Path\n",
    "import pdb\n",
    "import cv2\n",
    "\n",
    "import imageio\n",
    "\n",
    "%matplotlib inline"
   ]
  },
  {
   "cell_type": "code",
   "execution_count": 2,
   "metadata": {},
   "outputs": [
    {
     "data": {
      "text/plain": [
       "True"
      ]
     },
     "execution_count": 2,
     "metadata": {},
     "output_type": "execute_result"
    }
   ],
   "source": [
    "torch.cuda.is_available()"
   ]
  },
  {
   "cell_type": "code",
   "execution_count": 3,
   "metadata": {},
   "outputs": [],
   "source": [
    "class VAEVizHelper:\n",
    "    def __init__(self, recon_base_imgs, n=20, recon_tracking=True, datagen_tracking=True):\n",
    "        \n",
    "        self.recon_tracking = recon_tracking\n",
    "        self.datagen_tracking = datagen_tracking\n",
    "        \n",
    "        # base image (top row, stitched together)\n",
    "        self.recon_base_img = np.concatenate([np.squeeze(x) for x in recon_base_imgs], axis=1)\n",
    "        # base images (separate, not stitched together)\n",
    "        self.recon_base_imgs = recon_base_imgs\n",
    "        \n",
    "        # placeholders for the reconstruction and data generation\n",
    "        # images that will be used to create gifs\n",
    "        self.recon_tracking_imgs = []\n",
    "        self.datagen_tracking_imgs = []\n",
    "        \n",
    "        # linearly spaced coordinates on the unit square were transformed through \n",
    "        # the inverse CDF of the Gaussian to produce values of the latent variables z\n",
    "        self.grid_x = norm.ppf(np.linspace(0.05, 0.95, n))\n",
    "        self.grid_y = norm.ppf(np.linspace(0.05, 0.95, n))\n",
    "        # how many points to sample along the latent space\n",
    "        self.n = n\n",
    "        \n",
    "    def execute(self, model, device):\n",
    "        if self.recon_tracking:\n",
    "            # handle reconstruction figures\n",
    "            recon_figure = self.create_recon_figure(model, device)\n",
    "            self.recon_tracking_imgs.append(recon_figure)\n",
    "        if self.datagen_tracking:\n",
    "            # handle data generation figures\n",
    "            datagen_figure = self.create_datagen_figure(model, device)\n",
    "            self.datagen_tracking_imgs.append(datagen_figure)\n",
    "        \n",
    "    def create_recon_figure(self, model, device):\n",
    "        \"\"\"\n",
    "        Returns an image with the real MNIST images on the top row and\n",
    "        the corresponding reconstructed images on the bottom row. These\n",
    "        images can be used to visualize how well the VAE is able to\n",
    "        reconstruct its input data at various points during training.\n",
    "        \"\"\"\n",
    "        recon_imgs = []\n",
    "        for img in self.recon_base_imgs:\n",
    "            img = img.to(device)\n",
    "            recon = model(img.view(-1,784))[0].view(28,28).cpu().detach().numpy()\n",
    "            recon_imgs.append(recon)\n",
    "        tmp = np.concatenate(recon_imgs, axis=1)\n",
    "        figure = np.concatenate([self.recon_base_img, tmp], axis=0)\n",
    "        figure = (figure * 255.).astype('uint8')\n",
    "        return figure\n",
    "    \n",
    "    def create_datagen_figure(self, model, device):\n",
    "        \"\"\"\n",
    "        Returns an image of digits generated across the manifold of \n",
    "        the latent space.\n",
    "        \"\"\"\n",
    "        figure = np.zeros((28*self.n, 28*self.n))\n",
    "        for i, yi in enumerate(self.grid_x):\n",
    "            for j, xi in enumerate(self.grid_y):\n",
    "                z_sample = torch.tensor([[xi, yi]]).to(device)\n",
    "                x_decoded = model.decode(z_sample)\n",
    "                digit = x_decoded.view(28,28).detach().cpu().numpy()\n",
    "                figure[i * 28: (i + 1) * 28,\n",
    "                       j * 28: (j + 1) * 28] = digit\n",
    "        figure = (figure * 255.).astype('uint8')\n",
    "        return figure"
   ]
  },
  {
   "cell_type": "code",
   "execution_count": 4,
   "metadata": {},
   "outputs": [],
   "source": [
    "batch_size = 512\n",
    "epochs = 10\n",
    "seed = 199\n",
    "log_interval=10\n",
    "device='cuda'\n",
    "\n",
    "torch.manual_seed(seed)\n",
    "np.random.seed(seed)"
   ]
  },
  {
   "cell_type": "markdown",
   "metadata": {},
   "source": [
    "## Load and Prep Data"
   ]
  },
  {
   "cell_type": "code",
   "execution_count": 5,
   "metadata": {},
   "outputs": [],
   "source": [
    "xforms = transforms.Compose([\n",
    "    transforms.ToTensor(),\n",
    "    lambda x: x.round()\n",
    "])\n",
    "\n",
    "ds = datasets.MNIST('../data', train=False, transform=xforms, download=True)\n",
    "recon_base_imgs = []\n",
    "for i in [1, 4, 12, 15, 22]:\n",
    "    img = ds[i][0]\n",
    "    recon_base_imgs.append(img)\n",
    "recon_base_img = np.concatenate([np.squeeze(x.numpy()) for x in recon_base_imgs], axis=1)\n",
    "del ds"
   ]
  },
  {
   "cell_type": "code",
   "execution_count": 6,
   "metadata": {},
   "outputs": [
    {
     "data": {
      "image/png": "[encoded data removed]",
      "text/plain": [
       "<Figure size 432x288 with 1 Axes>"
      ]
     },
     "metadata": {
      "needs_background": "light"
     },
     "output_type": "display_data"
    }
   ],
   "source": [
    "fig, ax = plt.subplots()\n",
    "ax.imshow(recon_base_img, cmap='gray', interpolation='none')\n",
    "plt.show()"
   ]
  },
  {
   "cell_type": "code",
   "execution_count": 7,
   "metadata": {},
   "outputs": [],
   "source": [
    "train_loader = torch.utils.data.DataLoader(\n",
    "    datasets.MNIST('../data', train=True, download=True,\n",
    "                   transform=xforms),\n",
    "    batch_size=batch_size, shuffle=True)\n",
    "\n",
    "test_loader = torch.utils.data.DataLoader(\n",
    "    datasets.MNIST('../data', train=False, transform=xforms),\n",
    "    batch_size=batch_size, shuffle=True)"
   ]
  },
  {
   "cell_type": "code",
   "execution_count": 8,
   "metadata": {},
   "outputs": [
    {
     "data": {
      "text/plain": [
       "(60000, 10000)"
      ]
     },
     "execution_count": 8,
     "metadata": {},
     "output_type": "execute_result"
    }
   ],
   "source": [
    "len(train_loader.dataset), len(test_loader.dataset)"
   ]
  },
  {
   "cell_type": "markdown",
   "metadata": {},
   "source": [
    "## Define Model and Training Functions"
   ]
  },
  {
   "cell_type": "code",
   "execution_count": 9,
   "metadata": {},
   "outputs": [],
   "source": [
    "class VAEEncoder(nn.Module):\n",
    "    \"\"\"\n",
    "    Standard encoder module for variational autoencoders with tabular input and\n",
    "    factorized Gaussian posterior.\n",
    "    \"\"\"\n",
    "    def __init__(self, data_size, hidden_sizes, latent_size):\n",
    "        \"\"\"\n",
    "        Args:\n",
    "            data_size (int): Dimensionality of the input data.\n",
    "            hidden_sizes (list[int]): Sizes of hidden layers (not including the\n",
    "                input layer or the latent layer).\n",
    "            latent_size (int): Size of the latent space.\n",
    "        \"\"\"\n",
    "        super().__init__()\n",
    "        \n",
    "        self.data_size=data_size\n",
    "        \n",
    "        # construct the encoder\n",
    "        encoder_szs = [data_size] + hidden_sizes\n",
    "        encoder_layers = []\n",
    "        for in_sz,out_sz, in zip(encoder_szs[:-1], encoder_szs[1:]):\n",
    "            encoder_layers.append(nn.Linear(in_sz, out_sz))\n",
    "            encoder_layers.append(nn.ReLU())\n",
    "        self.encoder = nn.Sequential(*encoder_layers)\n",
    "        self.encoder_mu = nn.Linear(encoder_szs[-1], latent_size)\n",
    "        self.encoder_logvar = nn.Linear(encoder_szs[-1], latent_size)\n",
    "        \n",
    "    def encode(self, x):\n",
    "        return self.encoder(x)\n",
    "        \n",
    "    def gaussian_param_projection(self, x):\n",
    "        return self.encoder_mu(x), self.encoder_logvar(x)\n",
    "    \n",
    "    def reparameterize(self, mu, logvar):\n",
    "        std = torch.exp(0.5*logvar)\n",
    "        eps = torch.randn_like(std)\n",
    "        return mu + eps*std\n",
    "    \n",
    "    def forward(self, x):\n",
    "        x = self.encode(x)\n",
    "        mu, logvar = self.gaussian_param_projection(x)\n",
    "        z = self.reparameterize(mu, logvar)\n",
    "        return z, mu, logvar\n",
    "    \n",
    "    \n",
    "class BernoulliVAEDecoder(nn.Module):\n",
    "    \"\"\"\n",
    "    VAE decoder module that models a factorized multivariate Bernoulli\n",
    "    distribution with a feed-forward neural net.\n",
    "    \"\"\"\n",
    "    def __init__(self, data_size, hidden_sizes, latent_size):\n",
    "        \"\"\"\n",
    "        Args:\n",
    "            data_size (int): Dimensionality of the input data.\n",
    "            hidden_sizes (list[int]): Sizes of hidden layers (not including the\n",
    "                input layer or the latent layer).\n",
    "            latent_size (int): Size of the latent space.\n",
    "        \"\"\"\n",
    "        super().__init__()\n",
    "        \n",
    "        # construct the decoder\n",
    "        hidden_sizes = [latent_size] + hidden_sizes\n",
    "        decoder_layers = []\n",
    "        for in_sz,out_sz, in zip(hidden_sizes[:-1], hidden_sizes[1:]):\n",
    "            decoder_layers.append(nn.Linear(in_sz, out_sz))\n",
    "            decoder_layers.append(nn.ReLU())\n",
    "        decoder_layers.append(nn.Linear(hidden_sizes[-1], data_size))\n",
    "        decoder_layers.append(nn.Sigmoid())\n",
    "        self.decoder = nn.Sequential(*decoder_layers)\n",
    "        \n",
    "    def forward(self, z):\n",
    "        return self.decoder(z)\n",
    "    \n",
    "\n",
    "class BernoulliVAE(nn.Module):\n",
    "    \"\"\"\n",
    "    VAE module that combines a `VAEEncoder` and a `BernoulliVAEDecoder` resulting\n",
    "    in full VAE.\n",
    "    \"\"\"\n",
    "    def __init__(self, data_size, encoder_szs, latent_size, decoder_szs=None):\n",
    "        super().__init__()\n",
    "        \n",
    "        # if decoder_szs not specified, assume symmetry\n",
    "        if decoder_szs is None:\n",
    "            decoder_szs = encoder_szs[::-1]\n",
    "        \n",
    "        # construct the encoder\n",
    "        self.encoder = VAEEncoder(data_size=data_size, hidden_sizes=encoder_szs,\n",
    "                                  latent_size=latent_size)\n",
    "        \n",
    "        # construct the decoder\n",
    "        self.decoder = BernoulliVAEDecoder(data_size=data_size, latent_size=latent_size,\n",
    "                                           hidden_sizes=decoder_szs)\n",
    "        \n",
    "        self.data_size = data_size\n",
    "        \n",
    "    def decode(self, z):\n",
    "        return self.decoder(z)\n",
    "\n",
    "    def forward(self, x):\n",
    "        z, mu, logvar = self.encoder(x)\n",
    "        p_x = self.decoder(z)\n",
    "        return p_x, mu, logvar"
   ]
  },
  {
   "cell_type": "code",
   "execution_count": 10,
   "metadata": {},
   "outputs": [],
   "source": [
    "# Reconstruction + KL divergence losses summed over all elements and batch\n",
    "def loss_function(p_x, x, mu, logvar):\n",
    "    BCE = F.binary_cross_entropy(p_x, x, reduction='sum')\n",
    "\n",
    "    # see Appendix B from VAE paper:\n",
    "    # Kingma and Welling. Auto-Encoding Variational Bayes. ICLR, 2014\n",
    "    # https://arxiv.org/abs/1312.6114\n",
    "    # 0.5 * sum(1 + log(sigma^2) - mu^2 - sigma^2)\n",
    "    KLD = -0.5 * torch.sum(1 + logvar - mu.pow(2) - logvar.exp())\n",
    "\n",
    "    return BCE + KLD"
   ]
  },
  {
   "cell_type": "code",
   "execution_count": 11,
   "metadata": {},
   "outputs": [],
   "source": [
    "def train(epoch, mb, figure_interval, viz_helper, device):\n",
    "    model.train()\n",
    "    train_loss = 0\n",
    "    pb = progress_bar(train_loader, parent=mb)\n",
    "    for batch_idx, (data, _) in enumerate(pb):\n",
    "        data = data.to(device)\n",
    "        data = data.view(-1, 784)\n",
    "        optimizer.zero_grad()\n",
    "        recon_batch, mu, logvar = model(data)\n",
    "        loss = loss_function(recon_batch, data, mu, logvar)\n",
    "        loss.backward()\n",
    "        train_loss += loss.item()\n",
    "        optimizer.step()\n",
    "        \n",
    "        if batch_idx % figure_interval == 0:\n",
    "            viz_helper.execute(model, device)\n",
    "\n",
    "    return train_loss / len(train_loader.dataset)"
   ]
  },
  {
   "cell_type": "code",
   "execution_count": 12,
   "metadata": {},
   "outputs": [],
   "source": [
    "def test(epoch, mb):\n",
    "    model.eval()\n",
    "    test_loss = 0\n",
    "    with torch.no_grad():\n",
    "        pb = progress_bar(test_loader, parent=mb)\n",
    "        for data, _ in test_loader:\n",
    "            data = data.to(device)\n",
    "            data = data.view(-1, 784)\n",
    "            recon_batch, mu, logvar = model(data)\n",
    "            test_loss += loss_function(recon_batch, data, mu, logvar).item()\n",
    "\n",
    "    return test_loss / len(test_loader.dataset)"
   ]
  },
  {
   "cell_type": "code",
   "execution_count": 13,
   "metadata": {},
   "outputs": [],
   "source": [
    "def fit(model, epochs, figure_interval, viz_helper, device):\n",
    "    mb = master_bar(range(1, epochs + 1))\n",
    "    viz_helper.execute(model, device)\n",
    "    for epoch in mb:\n",
    "        trn_loss = train(epoch, mb, figure_interval=10, viz_helper=viz_helper, device=device)\n",
    "        tst_loss = test(epoch, mb)\n",
    "        mb.write(f'epoch {epoch}, train loss: {round(trn_loss,6)}, test loss: {round(tst_loss, 6)}')                                                                  \n"
   ]
  },
  {
   "cell_type": "markdown",
   "metadata": {},
   "source": [
    "## VAE with 20-d Latent Space\n",
    "\n",
    "Use this one to generate reconstruction figures."
   ]
  },
  {
   "cell_type": "code",
   "execution_count": 14,
   "metadata": {},
   "outputs": [],
   "source": [
    "viz_helper_20d = VAEVizHelper(recon_base_imgs, datagen_tracking=False)"
   ]
  },
  {
   "cell_type": "code",
   "execution_count": 15,
   "metadata": {},
   "outputs": [
    {
     "data": {
      "text/plain": [
       "torch.Size([60000, 28, 28])"
      ]
     },
     "execution_count": 15,
     "metadata": {},
     "output_type": "execute_result"
    }
   ],
   "source": [
    "train_loader.dataset.data.shape"
   ]
  },
  {
   "cell_type": "code",
   "execution_count": 16,
   "metadata": {},
   "outputs": [],
   "source": [
    "model = BernoulliVAE(data_size=784, encoder_szs=[400], latent_size=20, \n",
    "                     decoder_szs=[400]).to(device)\n",
    "optimizer = optim.Adam(model.parameters(), lr=1e-3)"
   ]
  },
  {
   "cell_type": "code",
   "execution_count": 17,
   "metadata": {},
   "outputs": [
    {
     "data": {
      "text/plain": [
       "BernoulliVAE(\n",
       "  (encoder): VAEEncoder(\n",
       "    (encoder): Sequential(\n",
       "      (0): Linear(in_features=784, out_features=400, bias=True)\n",
       "      (1): ReLU()\n",
       "    )\n",
       "    (encoder_mu): Linear(in_features=400, out_features=20, bias=True)\n",
       "    (encoder_logvar): Linear(in_features=400, out_features=20, bias=True)\n",
       "  )\n",
       "  (decoder): BernoulliVAEDecoder(\n",
       "    (decoder): Sequential(\n",
       "      (0): Linear(in_features=20, out_features=400, bias=True)\n",
       "      (1): ReLU()\n",
       "      (2): Linear(in_features=400, out_features=784, bias=True)\n",
       "      (3): Sigmoid()\n",
       "    )\n",
       "  )\n",
       ")"
      ]
     },
     "execution_count": 17,
     "metadata": {},
     "output_type": "execute_result"
    }
   ],
   "source": [
    "model"
   ]
  },
  {
   "cell_type": "code",
   "execution_count": 18,
   "metadata": {
    "scrolled": false
   },
   "outputs": [
    {
     "data": {
      "text/html": [
       "epoch 1, train loss: 220.116325, test loss: 160.278555<p>epoch 2, train loss: 144.191065, test loss: 129.848067<p>epoch 3, train loss: 123.336315, test loss: 117.012127<p>epoch 4, train loss: 113.363996, test loss: 108.841106<p>epoch 5, train loss: 107.265231, test loss: 104.252984<p>epoch 6, train loss: 103.150955, test loss: 100.830625<p>epoch 7, train loss: 100.358333, test loss: 98.358381<p>epoch 8, train loss: 98.212018, test loss: 96.576907<p>epoch 9, train loss: 96.471595, test loss: 95.263134<p>epoch 10, train loss: 95.126471, test loss: 94.029714"
      ],
      "text/plain": [
       "<IPython.core.display.HTML object>"
      ]
     },
     "metadata": {},
     "output_type": "display_data"
    }
   ],
   "source": [
    "fit(model, 10, 10, viz_helper_20d, device=device)"
   ]
  },
  {
   "cell_type": "code",
   "execution_count": null,
   "metadata": {},
   "outputs": [],
   "source": [
    "imageio.mimsave('~/git/acetherace.github.io/images/vae/recon_tracking.gif', \n",
    "                viz_helper_20d.recon_tracking_imgs[::5], duration=.05)"
   ]
  },
  {
   "cell_type": "code",
   "execution_count": null,
   "metadata": {},
   "outputs": [],
   "source": [
    "imageio.mimsave('~/git/acetherace.github.io/images/vae/recon_tracking_early.gif',\n",
    "                viz_helper_20d.recon_tracking_imgs[:150:1], duration=.1)"
   ]
  },
  {
   "cell_type": "markdown",
   "metadata": {},
   "source": [
    "### Anomaly detection"
   ]
  },
  {
   "cell_type": "code",
   "execution_count": 37,
   "metadata": {},
   "outputs": [],
   "source": [
    "# anomaly = imageio.imread('~/git/acetherace.github.io/images/vae/mario.png', as_gray=True)\n",
    "# anomaly = cv2.resize(anomaly, dsize=(28,28))\n",
    "# anomaly /= 255\n",
    "# anomaly = (anomaly > 0.5).astype('int')\n",
    "# anomaly = 1 - anomaly"
   ]
  },
  {
   "cell_type": "code",
   "execution_count": 19,
   "metadata": {},
   "outputs": [],
   "source": [
    "anomaly = np.random.randint(low=0, high=2, size=(28,28))"
   ]
  },
  {
   "cell_type": "code",
   "execution_count": 20,
   "metadata": {},
   "outputs": [
    {
     "data": {
      "text/plain": [
       "<matplotlib.image.AxesImage at 0x7fd499352400>"
      ]
     },
     "execution_count": 20,
     "metadata": {},
     "output_type": "execute_result"
    },
    {
     "data": {
      "image/png": "[encoded data removed]",
      "text/plain": [
       "<Figure size 432x288 with 1 Axes>"
      ]
     },
     "metadata": {
      "needs_background": "light"
     },
     "output_type": "display_data"
    }
   ],
   "source": [
    "plt.imshow(anomaly, cmap='gray')"
   ]
  },
  {
   "cell_type": "code",
   "execution_count": 21,
   "metadata": {},
   "outputs": [
    {
     "data": {
      "text/plain": [
       "(28, 28)"
      ]
     },
     "execution_count": 21,
     "metadata": {},
     "output_type": "execute_result"
    }
   ],
   "source": [
    "anomaly.shape"
   ]
  },
  {
   "cell_type": "code",
   "execution_count": 22,
   "metadata": {},
   "outputs": [],
   "source": [
    "def kl_divergence(mu, logvar):\n",
    "    return -0.5 * torch.sum(1 + logvar - mu.pow(2) - logvar.exp())"
   ]
  },
  {
   "cell_type": "code",
   "execution_count": 23,
   "metadata": {},
   "outputs": [],
   "source": [
    "kls = []\n",
    "for i in range(len(train_loader.dataset)):\n",
    "    x, _ = train_loader.dataset[i]\n",
    "    x = x.view(-1,784)\n",
    "    _, mu, logvar = model(x.to(device))\n",
    "    kls.append(kl_divergence(mu, logvar).item())"
   ]
  },
  {
   "cell_type": "code",
   "execution_count": 24,
   "metadata": {},
   "outputs": [],
   "source": [
    "kls = np.asarray(kls)"
   ]
  },
  {
   "cell_type": "code",
   "execution_count": 25,
   "metadata": {},
   "outputs": [
    {
     "data": {
      "text/plain": [
       "array([29.75917435, 27.2908535 , 26.58039093, 19.9089241 , 28.09859467])"
      ]
     },
     "execution_count": 25,
     "metadata": {},
     "output_type": "execute_result"
    }
   ],
   "source": [
    "kls[:5]"
   ]
  },
  {
   "cell_type": "code",
   "execution_count": 26,
   "metadata": {},
   "outputs": [
    {
     "data": {
      "text/plain": [
       "(60000,)"
      ]
     },
     "execution_count": 26,
     "metadata": {},
     "output_type": "execute_result"
    }
   ],
   "source": [
    "kls.shape"
   ]
  },
  {
   "cell_type": "code",
   "execution_count": 27,
   "metadata": {},
   "outputs": [],
   "source": [
    "import seaborn as sns"
   ]
  },
  {
   "cell_type": "code",
   "execution_count": 28,
   "metadata": {},
   "outputs": [
    {
     "data": {
      "image/png": "[encoded data removed]",
      "text/plain": [
       "<Figure size 432x288 with 1 Axes>"
      ]
     },
     "metadata": {
      "needs_background": "light"
     },
     "output_type": "display_data"
    }
   ],
   "source": [
    "fig, ax = plt.subplots()\n",
    "sns.distplot(kls, kde=False, ax=ax)\n",
    "ax.set_title('Distribution of KL Divergences in Training Set')\n",
    "ax.set_xlabel('KL Divergence')\n",
    "ax.set_ylabel('Frequency')\n",
    "plt.show()"
   ]
  },
  {
   "cell_type": "code",
   "execution_count": 29,
   "metadata": {},
   "outputs": [
    {
     "data": {
      "text/plain": [
       "78.3709716796875"
      ]
     },
     "execution_count": 29,
     "metadata": {},
     "output_type": "execute_result"
    }
   ],
   "source": [
    "_, mu, logvar = model(torch.tensor(anomaly).type(torch.FloatTensor).view(-1,784).to(device))\n",
    "kl_divergence(mu, logvar).item()"
   ]
  },
  {
   "cell_type": "code",
   "execution_count": 30,
   "metadata": {},
   "outputs": [],
   "source": [
    "mu, std = norm.fit(kls)"
   ]
  },
  {
   "cell_type": "code",
   "execution_count": 31,
   "metadata": {},
   "outputs": [
    {
     "data": {
      "text/plain": [
       "(27.574872059281667, 4.384177863044052)"
      ]
     },
     "execution_count": 31,
     "metadata": {},
     "output_type": "execute_result"
    }
   ],
   "source": [
    "mu, std"
   ]
  },
  {
   "cell_type": "markdown",
   "metadata": {},
   "source": [
    "## VAE with 2-d Latent Space\n",
    "\n",
    "Use this one to generate data generation figures."
   ]
  },
  {
   "cell_type": "code",
   "execution_count": 32,
   "metadata": {},
   "outputs": [],
   "source": [
    "viz_helper_2d = VAEVizHelper(recon_base_imgs)"
   ]
  },
  {
   "cell_type": "code",
   "execution_count": 33,
   "metadata": {},
   "outputs": [],
   "source": [
    "model = BernoulliVAE(data_size=784, encoder_szs=[400,150], latent_size=2,\n",
    "                     decoder_szs=[150,400]).to(device)\n",
    "optimizer = optim.Adam(model.parameters(), lr=1e-3)"
   ]
  },
  {
   "cell_type": "code",
   "execution_count": 34,
   "metadata": {},
   "outputs": [
    {
     "data": {
      "text/plain": [
       "BernoulliVAE(\n",
       "  (encoder): VAEEncoder(\n",
       "    (encoder): Sequential(\n",
       "      (0): Linear(in_features=784, out_features=400, bias=True)\n",
       "      (1): ReLU()\n",
       "      (2): Linear(in_features=400, out_features=150, bias=True)\n",
       "      (3): ReLU()\n",
       "    )\n",
       "    (encoder_mu): Linear(in_features=150, out_features=2, bias=True)\n",
       "    (encoder_logvar): Linear(in_features=150, out_features=2, bias=True)\n",
       "  )\n",
       "  (decoder): BernoulliVAEDecoder(\n",
       "    (decoder): Sequential(\n",
       "      (0): Linear(in_features=2, out_features=150, bias=True)\n",
       "      (1): ReLU()\n",
       "      (2): Linear(in_features=150, out_features=400, bias=True)\n",
       "      (3): ReLU()\n",
       "      (4): Linear(in_features=400, out_features=784, bias=True)\n",
       "      (5): Sigmoid()\n",
       "    )\n",
       "  )\n",
       ")"
      ]
     },
     "execution_count": 34,
     "metadata": {},
     "output_type": "execute_result"
    }
   ],
   "source": [
    "model"
   ]
  },
  {
   "cell_type": "code",
   "execution_count": 35,
   "metadata": {},
   "outputs": [
    {
     "data": {
      "text/html": [
       "epoch 1, train loss: 222.910095, test loss: 179.727125<p>epoch 2, train loss: 172.362153, test loss: 167.05883<p>epoch 3, train loss: 164.388866, test loss: 162.923456<p>epoch 4, train loss: 160.547806, test loss: 159.208533<p>epoch 5, train loss: 157.457237, test loss: 156.529575<p>epoch 6, train loss: 154.8764, test loss: 154.684749<p>epoch 7, train loss: 152.67003, test loss: 154.017791<p>epoch 8, train loss: 150.910928, test loss: 151.228423<p>epoch 9, train loss: 149.290028, test loss: 150.167391<p>epoch 10, train loss: 147.889375, test loss: 148.963001"
      ],
      "text/plain": [
       "<IPython.core.display.HTML object>"
      ]
     },
     "metadata": {},
     "output_type": "display_data"
    }
   ],
   "source": [
    "fit(model, 10, 10, viz_helper_2d, device=device)"
   ]
  },
  {
   "cell_type": "code",
   "execution_count": null,
   "metadata": {},
   "outputs": [],
   "source": [
    "imageio.mimsave('~/git/acetherace.github.io/images/vae/datagen_tracking.gif', \n",
    "                viz_helper_2d.datagen_tracking_imgs[::5], duration=.05)"
   ]
  },
  {
   "cell_type": "code",
   "execution_count": null,
   "metadata": {},
   "outputs": [],
   "source": [
    "imageio.mimsave('~/git/acetherace.github.io/images/vae/datagen_tracking_early.gif',\n",
    "                viz_helper_2d.datagen_tracking_imgs[:200:2], duration=.1)"
   ]
  },
  {
   "cell_type": "code",
   "execution_count": null,
   "metadata": {},
   "outputs": [],
   "source": [
    "plt.imshow(viz_helper_2d.datagen_tracking_imgs[-1])"
   ]
  },
  {
   "cell_type": "code",
   "execution_count": null,
   "metadata": {},
   "outputs": [],
   "source": [
    "import scipy.misc"
   ]
  },
  {
   "cell_type": "code",
   "execution_count": null,
   "metadata": {},
   "outputs": [],
   "source": [
    "imageio.imwrite('~/git/acetherace.github.io/images/vae/datagen_final.png', \n",
    "                viz_helper_2d.datagen_tracking_imgs[-1])"
   ]
  },
  {
   "cell_type": "code",
   "execution_count": null,
   "metadata": {},
   "outputs": [],
   "source": []
  }
 ],
 "metadata": {
  "kernelspec": {
   "display_name": "Python 3",
   "language": "python",
   "name": "python3"
  },
  "language_info": {
   "codemirror_mode": {
    "name": "ipython",
    "version": 3
   },
   "file_extension": ".py",
   "mimetype": "text/x-python",
   "name": "python",
   "nbconvert_exporter": "python",
   "pygments_lexer": "ipython3",
   "version": "3.7.3"
  }
 },
 "nbformat": 4,
 "nbformat_minor": 2
}
