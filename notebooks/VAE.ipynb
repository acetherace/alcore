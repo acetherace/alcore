{
 "cells": [
  {
   "cell_type": "markdown",
   "metadata": {},
   "source": [
    "## Imports and Helpers"
   ]
  },
  {
   "cell_type": "code",
   "execution_count": 1,
   "metadata": {},
   "outputs": [],
   "source": [
    "import torch\n",
    "import torch.utils.data\n",
    "from torch.nn import functional as F\n",
    "from torch import nn, optim\n",
    "from torchvision import datasets, transforms\n",
    "from torchvision.utils import save_image\n",
    "\n",
    "from fastprogress import master_bar, progress_bar\n",
    "import matplotlib.pyplot as plt\n",
    "import numpy as np\n",
    "from scipy.stats import norm\n",
    "from pathlib import Path\n",
    "import pdb\n",
    "import cv2\n",
    "\n",
    "import imageio\n",
    "\n",
    "%matplotlib inline"
   ]
  },
  {
   "cell_type": "code",
   "execution_count": 2,
   "metadata": {},
   "outputs": [],
   "source": [
    "class VAEVizHelper:\n",
    "    def __init__(self, recon_base_imgs, n=20, recon_tracking=True, datagen_tracking=True):\n",
    "        \n",
    "        self.recon_tracking = recon_tracking\n",
    "        self.datagen_tracking = datagen_tracking\n",
    "        \n",
    "        # base image (top row, stitched together)\n",
    "        self.recon_base_img = np.concatenate([np.squeeze(x) for x in recon_base_imgs], axis=1)\n",
    "        # base images (separate, not stitched together)\n",
    "        self.recon_base_imgs = recon_base_imgs\n",
    "        \n",
    "        # placeholders for the reconstruction and data generation\n",
    "        # images that will be used to create gifs\n",
    "        self.recon_tracking_imgs = []\n",
    "        self.datagen_tracking_imgs = []\n",
    "        \n",
    "        # linearly spaced coordinates on the unit square were transformed through \n",
    "        # the inverse CDF of the Gaussian to produce values of the latent variables z\n",
    "        self.grid_x = norm.ppf(np.linspace(0.05, 0.95, n))\n",
    "        self.grid_y = norm.ppf(np.linspace(0.05, 0.95, n))\n",
    "        # how many points to sample along the latent space\n",
    "        self.n = n\n",
    "        \n",
    "    def execute(self, model):\n",
    "        if self.recon_tracking:\n",
    "            # handle reconstruction figures\n",
    "            recon_figure = self.create_recon_figure(model)\n",
    "            self.recon_tracking_imgs.append(recon_figure)\n",
    "        if self.datagen_tracking:\n",
    "            # handle data generation figures\n",
    "            datagen_figure = self.create_datagen_figure(model)\n",
    "            self.datagen_tracking_imgs.append(datagen_figure)\n",
    "        \n",
    "    def create_recon_figure(self, model):\n",
    "        \"\"\"\n",
    "        Returns an image with the real MNIST images on the top row and\n",
    "        the corresponding reconstructed images on the bottom row. These\n",
    "        images can be used to visualize how well the VAE is able to\n",
    "        reconstruct its input data at various points during training.\n",
    "        \"\"\"\n",
    "        recon_imgs = []\n",
    "        for img in self.recon_base_imgs:\n",
    "            recon = model(img)[0].view(28,28).detach().numpy()\n",
    "            recon_imgs.append(recon)\n",
    "        tmp = np.concatenate(recon_imgs, axis=1)\n",
    "        figure = np.concatenate([self.recon_base_img, tmp], axis=0)\n",
    "        figure = (figure * 255.).astype('uint8')\n",
    "        return figure\n",
    "    \n",
    "    def create_datagen_figure(self, model):\n",
    "        \"\"\"\n",
    "        Returns an image of digits generated across the manifold of \n",
    "        the latent space.\n",
    "        \"\"\"\n",
    "        figure = np.zeros((28*self.n, 28*self.n))\n",
    "        for i, yi in enumerate(self.grid_x):\n",
    "            for j, xi in enumerate(self.grid_y):\n",
    "                z_sample = torch.tensor([[xi, yi]])\n",
    "                x_decoded = model.decode(z_sample)\n",
    "                digit = x_decoded.view(28,28).detach().numpy()\n",
    "                figure[i * 28: (i + 1) * 28,\n",
    "                       j * 28: (j + 1) * 28] = digit\n",
    "        figure = (figure * 255.).astype('uint8')\n",
    "        return figure"
   ]
  },
  {
   "cell_type": "code",
   "execution_count": 3,
   "metadata": {},
   "outputs": [],
   "source": [
    "batch_size = 128\n",
    "epochs = 10\n",
    "seed = 199\n",
    "log_interval=10\n",
    "device='cpu'\n",
    "\n",
    "torch.manual_seed(seed)\n",
    "np.random.seed(seed)"
   ]
  },
  {
   "cell_type": "markdown",
   "metadata": {},
   "source": [
    "## Load and Prep Data"
   ]
  },
  {
   "cell_type": "code",
   "execution_count": 4,
   "metadata": {},
   "outputs": [],
   "source": [
    "xforms = transforms.Compose([\n",
    "    transforms.ToTensor(),\n",
    "    lambda x: x.round()\n",
    "])\n",
    "\n",
    "ds = datasets.MNIST('../data', train=False, transform=xforms, download=True)\n",
    "recon_base_imgs = []\n",
    "for i in [1, 4, 12, 15, 22]:\n",
    "    img = ds[i][0]\n",
    "    recon_base_imgs.append(img)\n",
    "recon_base_img = np.concatenate([np.squeeze(x.numpy()) for x in recon_base_imgs], axis=1)\n",
    "del ds"
   ]
  },
  {
   "cell_type": "code",
   "execution_count": 5,
   "metadata": {},
   "outputs": [
    {
     "data": {
      "image/png": "[encoded data removed]",
      "text/plain": [
       "<Figure size 432x288 with 1 Axes>"
      ]
     },
     "metadata": {
      "needs_background": "light"
     },
     "output_type": "display_data"
    }
   ],
   "source": [
    "fig, ax = plt.subplots()\n",
    "ax.imshow(recon_base_img, cmap='gray', interpolation='none')\n",
    "plt.show()"
   ]
  },
  {
   "cell_type": "code",
   "execution_count": 6,
   "metadata": {},
   "outputs": [],
   "source": [
    "train_loader = torch.utils.data.DataLoader(\n",
    "    datasets.MNIST('../data', train=True, download=True,\n",
    "                   transform=xforms),\n",
    "    batch_size=batch_size, shuffle=True)\n",
    "\n",
    "test_loader = torch.utils.data.DataLoader(\n",
    "    datasets.MNIST('../data', train=False, transform=xforms),\n",
    "    batch_size=batch_size, shuffle=True)"
   ]
  },
  {
   "cell_type": "code",
   "execution_count": 7,
   "metadata": {},
   "outputs": [
    {
     "data": {
      "text/plain": [
       "(60000, 10000)"
      ]
     },
     "execution_count": 7,
     "metadata": {},
     "output_type": "execute_result"
    }
   ],
   "source": [
    "len(train_loader.dataset), len(test_loader.dataset)"
   ]
  },
  {
   "cell_type": "markdown",
   "metadata": {},
   "source": [
    "## Define Model and Training Functions"
   ]
  },
  {
   "cell_type": "code",
   "execution_count": 8,
   "metadata": {},
   "outputs": [],
   "source": [
    "class VAE(nn.Module):\n",
    "    def __init__(self, data_size=784, encoder_szs=[400, 2], \n",
    "                 decoder_szs=None):\n",
    "        super(VAE, self).__init__()\n",
    "        \n",
    "        # if decoder_szs not specified, assume symmetry\n",
    "        if decoder_szs is None:\n",
    "            decoder_szs = encoder_szs[::-1]\n",
    "        \n",
    "        # construct the encoder\n",
    "        encoder_szs = [data_size] + encoder_szs\n",
    "        encoder_layers = []\n",
    "        for in_sz, out_sz in zip(encoder_szs[:-2], encoder_szs[1:-1]):\n",
    "            encoder_layers.append(nn.Linear(in_sz, out_sz))\n",
    "            encoder_layers.append(nn.ReLU())\n",
    "        self.encoder = nn.Sequential(*encoder_layers)\n",
    "        self.encoder_mu = nn.Linear(encoder_szs[-2], encoder_szs[-1])\n",
    "        self.encoder_logvar = nn.Linear(encoder_szs[-2], encoder_szs[-1])\n",
    "        \n",
    "        # construct the decoder\n",
    "        decoder_layers = []\n",
    "        for in_sz, out_sz in zip(decoder_szs[:-1], decoder_szs[1:]):\n",
    "            decoder_layers.append(nn.Linear(in_sz, out_sz))\n",
    "            decoder_layers.append(nn.ReLU())\n",
    "        decoder_layers.append(nn.Linear(decoder_szs[-1], data_size))\n",
    "        decoder_layers.append(nn.Sigmoid())\n",
    "        self.decoder = nn.Sequential(*decoder_layers)\n",
    "        \n",
    "        self.data_size = data_size\n",
    "\n",
    "    def encode(self, x):\n",
    "        h = self.encoder(x)\n",
    "        return self.encoder_mu(h), self.encoder_logvar(h)\n",
    "\n",
    "    def reparameterize(self, mu, logvar):\n",
    "        std = torch.exp(0.5*logvar)\n",
    "        eps = torch.randn_like(std)\n",
    "        return mu + eps*std\n",
    "\n",
    "    def decode(self, z):\n",
    "        return self.decoder(z)\n",
    "\n",
    "    def forward(self, x):\n",
    "        mu, logvar = self.encode(x.view(-1, self.data_size))\n",
    "        z = self.reparameterize(mu, logvar)\n",
    "        return self.decode(z), mu, logvar"
   ]
  },
  {
   "cell_type": "code",
   "execution_count": 9,
   "metadata": {},
   "outputs": [],
   "source": [
    "# Reconstruction + KL divergence losses summed over all elements and batch\n",
    "def loss_function(recon_x, x, mu, logvar):\n",
    "    BCE = F.binary_cross_entropy(recon_x, x.view(-1, 784), reduction='sum')\n",
    "\n",
    "    # see Appendix B from VAE paper:\n",
    "    # Kingma and Welling. Auto-Encoding Variational Bayes. ICLR, 2014\n",
    "    # https://arxiv.org/abs/1312.6114\n",
    "    # 0.5 * sum(1 + log(sigma^2) - mu^2 - sigma^2)\n",
    "    KLD = -0.5 * torch.sum(1 + logvar - mu.pow(2) - logvar.exp())\n",
    "\n",
    "    return BCE + KLD"
   ]
  },
  {
   "cell_type": "code",
   "execution_count": 10,
   "metadata": {},
   "outputs": [],
   "source": [
    "p = torch.tensor(np.random.rand(128, 784))\n",
    "x = torch.tensor(np.random.rand(128, 784).round())"
   ]
  },
  {
   "cell_type": "code",
   "execution_count": 11,
   "metadata": {},
   "outputs": [
    {
     "data": {
      "text/plain": [
       "(torch.Size([128, 784]), torch.Size([128, 784]))"
      ]
     },
     "execution_count": 11,
     "metadata": {},
     "output_type": "execute_result"
    }
   ],
   "source": [
    "p.shape, x.shape"
   ]
  },
  {
   "cell_type": "code",
   "execution_count": 12,
   "metadata": {},
   "outputs": [
    {
     "data": {
      "text/plain": [
       "tensor(100392.3963, dtype=torch.float64)"
      ]
     },
     "execution_count": 12,
     "metadata": {},
     "output_type": "execute_result"
    }
   ],
   "source": [
    "F.binary_cross_entropy(p, x, reduction='sum')"
   ]
  },
  {
   "cell_type": "code",
   "execution_count": 13,
   "metadata": {},
   "outputs": [],
   "source": [
    "bces = []\n",
    "for i in range(128):\n",
    "    bce = F.binary_cross_entropy(p[i,:], x[i,:], reduction='sum')\n",
    "    bces.append(bce)"
   ]
  },
  {
   "cell_type": "code",
   "execution_count": 14,
   "metadata": {},
   "outputs": [
    {
     "data": {
      "text/plain": [
       "tensor(100392.3963, dtype=torch.float64)"
      ]
     },
     "execution_count": 14,
     "metadata": {},
     "output_type": "execute_result"
    }
   ],
   "source": [
    "sum(bces)"
   ]
  },
  {
   "cell_type": "code",
   "execution_count": 15,
   "metadata": {},
   "outputs": [],
   "source": [
    "def train(epoch, mb, figure_interval, viz_helper):\n",
    "    model.train()\n",
    "    train_loss = 0\n",
    "    pb = progress_bar(train_loader, parent=mb)\n",
    "    for batch_idx, (data, _) in enumerate(pb):\n",
    "        data = data.to(device)\n",
    "        optimizer.zero_grad()\n",
    "        recon_batch, mu, logvar = model(data)\n",
    "        loss = loss_function(recon_batch, data, mu, logvar)\n",
    "        loss.backward()\n",
    "        train_loss += loss.item()\n",
    "        optimizer.step()\n",
    "        \n",
    "        if batch_idx % figure_interval == 0:\n",
    "            viz_helper.execute(model)\n",
    "\n",
    "    return train_loss / len(train_loader.dataset)"
   ]
  },
  {
   "cell_type": "code",
   "execution_count": 16,
   "metadata": {},
   "outputs": [],
   "source": [
    "def test(epoch, mb):\n",
    "    model.eval()\n",
    "    test_loss = 0\n",
    "    with torch.no_grad():\n",
    "        pb = progress_bar(test_loader, parent=mb)\n",
    "        for data, _ in test_loader:\n",
    "            data = data.to(device)\n",
    "            recon_batch, mu, logvar = model(data)\n",
    "            test_loss += loss_function(recon_batch, data, mu, logvar).item()\n",
    "\n",
    "    return test_loss / len(test_loader.dataset)"
   ]
  },
  {
   "cell_type": "code",
   "execution_count": 17,
   "metadata": {},
   "outputs": [],
   "source": [
    "def fit(model, epochs, figure_interval, viz_helper):\n",
    "    mb = master_bar(range(1, epochs + 1))\n",
    "    viz_helper.execute(model)\n",
    "    for epoch in mb:\n",
    "        trn_loss = train(epoch, mb, figure_interval=10, viz_helper=viz_helper)\n",
    "        tst_loss = test(epoch, mb)\n",
    "        mb.write(f'epoch {epoch}, train loss: {round(trn_loss,6)}, test loss: {round(tst_loss, 6)}')                                                                  \n"
   ]
  },
  {
   "cell_type": "markdown",
   "metadata": {},
   "source": [
    "## VAE with 20-d Latent Space\n",
    "\n",
    "Use this one to generate reconstruction figures."
   ]
  },
  {
   "cell_type": "code",
   "execution_count": 18,
   "metadata": {},
   "outputs": [],
   "source": [
    "viz_helper_20d = VAEVizHelper(recon_base_imgs, datagen_tracking=False)"
   ]
  },
  {
   "cell_type": "code",
   "execution_count": 19,
   "metadata": {},
   "outputs": [],
   "source": [
    "model = VAE(encoder_szs=[400,20]).to(device)\n",
    "optimizer = optim.Adam(model.parameters(), lr=1e-3)"
   ]
  },
  {
   "cell_type": "code",
   "execution_count": 20,
   "metadata": {},
   "outputs": [
    {
     "data": {
      "text/plain": [
       "VAE(\n",
       "  (encoder): Sequential(\n",
       "    (0): Linear(in_features=784, out_features=400, bias=True)\n",
       "    (1): ReLU()\n",
       "  )\n",
       "  (encoder_mu): Linear(in_features=400, out_features=20, bias=True)\n",
       "  (encoder_logvar): Linear(in_features=400, out_features=20, bias=True)\n",
       "  (decoder): Sequential(\n",
       "    (0): Linear(in_features=20, out_features=400, bias=True)\n",
       "    (1): ReLU()\n",
       "    (2): Linear(in_features=400, out_features=784, bias=True)\n",
       "    (3): Sigmoid()\n",
       "  )\n",
       ")"
      ]
     },
     "execution_count": 20,
     "metadata": {},
     "output_type": "execute_result"
    }
   ],
   "source": [
    "model"
   ]
  },
  {
   "cell_type": "code",
   "execution_count": 21,
   "metadata": {
    "scrolled": true
   },
   "outputs": [
    {
     "data": {
      "text/html": [
       "epoch 1, train loss: 156.904211, test loss: 115.214845<p>epoch 2, train loss: 108.120859, test loss: 101.495356<p>epoch 3, train loss: 99.63752, test loss: 96.42257<p>epoch 4, train loss: 95.831776, test loss: 93.85051<p>epoch 5, train loss: 93.4052, test loss: 91.909898<p>epoch 6, train loss: 91.733192, test loss: 91.127971<p>epoch 7, train loss: 90.488728, test loss: 89.608899<p>epoch 8, train loss: 89.472617, test loss: 88.976915<p>epoch 9, train loss: 88.651863, test loss: 88.260096<p>epoch 10, train loss: 87.99581, test loss: 87.924685"
      ],
      "text/plain": [
       "<IPython.core.display.HTML object>"
      ]
     },
     "metadata": {},
     "output_type": "display_data"
    }
   ],
   "source": [
    "fit(model, 10, 10, viz_helper_20d)"
   ]
  },
  {
   "cell_type": "code",
   "execution_count": null,
   "metadata": {},
   "outputs": [],
   "source": [
    "imageio.mimsave('~/git/acetherace.github.io/images/vae/recon_tracking.gif', \n",
    "                viz_helper_20d.recon_tracking_imgs[::5], duration=.05)"
   ]
  },
  {
   "cell_type": "code",
   "execution_count": null,
   "metadata": {},
   "outputs": [],
   "source": [
    "imageio.mimsave('~/git/acetherace.github.io/images/vae/recon_tracking_early.gif',\n",
    "                viz_helper_20d.recon_tracking_imgs[:150:1], duration=.1)"
   ]
  },
  {
   "cell_type": "markdown",
   "metadata": {},
   "source": [
    "### Anomaly detection"
   ]
  },
  {
   "cell_type": "code",
   "execution_count": 41,
   "metadata": {},
   "outputs": [],
   "source": [
    "# anomaly = imageio.imread('~/git/acetherace.github.io/images/vae/mario.png', as_gray=True)\n",
    "# anomaly = cv2.resize(anomaly, dsize=(28,28))\n",
    "# anomaly /= 255\n",
    "# anomaly = (anomaly > 0.5).astype('int')\n",
    "# anomaly = 1 - anomaly"
   ]
  },
  {
   "cell_type": "code",
   "execution_count": 50,
   "metadata": {},
   "outputs": [],
   "source": [
    "anomaly = np.random.randint(low=0, high=2, size=(28,28))"
   ]
  },
  {
   "cell_type": "code",
   "execution_count": 52,
   "metadata": {},
   "outputs": [
    {
     "data": {
      "text/plain": [
       "<matplotlib.image.AxesImage at 0x1a393f2208>"
      ]
     },
     "execution_count": 52,
     "metadata": {},
     "output_type": "execute_result"
    },
    {
     "data": {
      "image/png": "[encoded data removed]",
      "text/plain": [
       "<Figure size 432x288 with 1 Axes>"
      ]
     },
     "metadata": {
      "needs_background": "light"
     },
     "output_type": "display_data"
    }
   ],
   "source": [
    "plt.imshow(anomaly, cmap='gray')"
   ]
  },
  {
   "cell_type": "code",
   "execution_count": 51,
   "metadata": {},
   "outputs": [
    {
     "data": {
      "text/plain": [
       "(28, 28)"
      ]
     },
     "execution_count": 51,
     "metadata": {},
     "output_type": "execute_result"
    }
   ],
   "source": [
    "anomaly.shape"
   ]
  },
  {
   "cell_type": "code",
   "execution_count": 44,
   "metadata": {},
   "outputs": [],
   "source": [
    "def kl_divergence(mu, logvar):\n",
    "    return -0.5 * torch.sum(1 + logvar - mu.pow(2) - logvar.exp())"
   ]
  },
  {
   "cell_type": "code",
   "execution_count": 30,
   "metadata": {},
   "outputs": [],
   "source": [
    "kls = []\n",
    "for i in range(len(train_loader.dataset)):\n",
    "    x, _ = train_loader.dataset[i]\n",
    "    _, mu, logvar = model(x)\n",
    "    kls.append(kl_divergence(mu, logvar).item())"
   ]
  },
  {
   "cell_type": "code",
   "execution_count": 31,
   "metadata": {},
   "outputs": [],
   "source": [
    "kls = np.asarray(kls)"
   ]
  },
  {
   "cell_type": "code",
   "execution_count": 32,
   "metadata": {},
   "outputs": [
    {
     "data": {
      "text/plain": [
       "array([33.08784485, 29.66623306, 30.39261627, 19.6877594 , 29.83441544])"
      ]
     },
     "execution_count": 32,
     "metadata": {},
     "output_type": "execute_result"
    }
   ],
   "source": [
    "kls[:5]"
   ]
  },
  {
   "cell_type": "code",
   "execution_count": 34,
   "metadata": {},
   "outputs": [
    {
     "data": {
      "text/plain": [
       "(60000,)"
      ]
     },
     "execution_count": 34,
     "metadata": {},
     "output_type": "execute_result"
    }
   ],
   "source": [
    "kls.shape"
   ]
  },
  {
   "cell_type": "code",
   "execution_count": 35,
   "metadata": {},
   "outputs": [],
   "source": [
    "import seaborn as sns"
   ]
  },
  {
   "cell_type": "code",
   "execution_count": 55,
   "metadata": {},
   "outputs": [
    {
     "data": {
      "image/png": "[encoded data removed]",
      "text/plain": [
       "<Figure size 432x288 with 1 Axes>"
      ]
     },
     "metadata": {
      "needs_background": "light"
     },
     "output_type": "display_data"
    }
   ],
   "source": [
    "fig, ax = plt.subplots()\n",
    "sns.distplot(kls, kde=False, ax=ax)\n",
    "ax.set_title('Distribution of KL Divergences in Training Set')\n",
    "ax.set_xlabel('KL Divergence')\n",
    "ax.set_ylabel('Frequency')\n",
    "plt.show()"
   ]
  },
  {
   "cell_type": "code",
   "execution_count": 56,
   "metadata": {},
   "outputs": [
    {
     "data": {
      "text/plain": [
       "51.76375198364258"
      ]
     },
     "execution_count": 56,
     "metadata": {},
     "output_type": "execute_result"
    }
   ],
   "source": [
    "_, mu, logvar = model(torch.tensor(anomaly).type(torch.FloatTensor))\n",
    "kl_divergence(mu, logvar).item()"
   ]
  },
  {
   "cell_type": "code",
   "execution_count": 108,
   "metadata": {},
   "outputs": [],
   "source": [
    "mu, std = norm.fit(kl_divs)"
   ]
  },
  {
   "cell_type": "code",
   "execution_count": 109,
   "metadata": {},
   "outputs": [
    {
     "data": {
      "text/plain": [
       "(28.801664, 4.2350025)"
      ]
     },
     "execution_count": 109,
     "metadata": {},
     "output_type": "execute_result"
    }
   ],
   "source": [
    "mu, std"
   ]
  },
  {
   "cell_type": "markdown",
   "metadata": {},
   "source": [
    "## VAE with 2-d Latent Space\n",
    "\n",
    "Use this one to generate data generation figures."
   ]
  },
  {
   "cell_type": "code",
   "execution_count": 26,
   "metadata": {},
   "outputs": [],
   "source": [
    "viz_helper_2d = VAEVizHelper(recon_base_imgs)"
   ]
  },
  {
   "cell_type": "code",
   "execution_count": 27,
   "metadata": {},
   "outputs": [],
   "source": [
    "model = VAE(encoder_szs=[400,150,2]).to(device)\n",
    "optimizer = optim.Adam(model.parameters(), lr=1e-3)"
   ]
  },
  {
   "cell_type": "code",
   "execution_count": 28,
   "metadata": {},
   "outputs": [
    {
     "data": {
      "text/plain": [
       "VAE(\n",
       "  (encoder): Sequential(\n",
       "    (0): Linear(in_features=784, out_features=400, bias=True)\n",
       "    (1): ReLU()\n",
       "    (2): Linear(in_features=400, out_features=150, bias=True)\n",
       "    (3): ReLU()\n",
       "  )\n",
       "  (encoder_mu): Linear(in_features=150, out_features=2, bias=True)\n",
       "  (encoder_logvar): Linear(in_features=150, out_features=2, bias=True)\n",
       "  (decoder): Sequential(\n",
       "    (0): Linear(in_features=2, out_features=150, bias=True)\n",
       "    (1): ReLU()\n",
       "    (2): Linear(in_features=150, out_features=400, bias=True)\n",
       "    (3): ReLU()\n",
       "    (4): Linear(in_features=400, out_features=784, bias=True)\n",
       "    (5): Sigmoid()\n",
       "  )\n",
       ")"
      ]
     },
     "execution_count": 28,
     "metadata": {},
     "output_type": "execute_result"
    }
   ],
   "source": [
    "model"
   ]
  },
  {
   "cell_type": "code",
   "execution_count": 29,
   "metadata": {},
   "outputs": [
    {
     "data": {
      "text/html": [
       "Total time: 03:51 <p>epoch 1, train loss: 185.884225, test loss: 162.713223<p>epoch 2, train loss: 159.063301, test loss: 156.007464<p>epoch 3, train loss: 153.748737, test loss: 152.140748<p>epoch 4, train loss: 149.969327, test loss: 149.109853<p>epoch 5, train loss: 147.20043, test loss: 146.725283<p>epoch 6, train loss: 144.881636, test loss: 145.318543<p>epoch 7, train loss: 143.084824, test loss: 143.166706<p>epoch 8, train loss: 141.639697, test loss: 142.065257<p>epoch 9, train loss: 140.635882, test loss: 141.281592<p>epoch 10, train loss: 139.719608, test loss: 140.791052"
      ],
      "text/plain": [
       "<IPython.core.display.HTML object>"
      ]
     },
     "metadata": {},
     "output_type": "display_data"
    }
   ],
   "source": [
    "fit(model, 10, 10, viz_helper_2d)"
   ]
  },
  {
   "cell_type": "code",
   "execution_count": 30,
   "metadata": {},
   "outputs": [],
   "source": [
    "imageio.mimsave('~/git/acetherace.github.io/images/vae/datagen_tracking.gif', \n",
    "                viz_helper_2d.datagen_tracking_imgs[::5], duration=.05)"
   ]
  },
  {
   "cell_type": "code",
   "execution_count": 31,
   "metadata": {},
   "outputs": [],
   "source": [
    "imageio.mimsave('~/git/acetherace.github.io/images/vae/datagen_tracking_early.gif',\n",
    "                viz_helper_2d.datagen_tracking_imgs[:200:2], duration=.1)"
   ]
  },
  {
   "cell_type": "code",
   "execution_count": 32,
   "metadata": {},
   "outputs": [
    {
     "data": {
      "text/plain": [
       "<matplotlib.image.AxesImage at 0x1a2f755c88>"
      ]
     },
     "execution_count": 32,
     "metadata": {},
     "output_type": "execute_result"
    },
    {
     "data": {
      "image/png": "[encoded data removed]",
      "text/plain": [
       "<Figure size 432x288 with 1 Axes>"
      ]
     },
     "metadata": {
      "needs_background": "light"
     },
     "output_type": "display_data"
    }
   ],
   "source": [
    "plt.imshow(viz_helper_2d.datagen_tracking_imgs[-1])"
   ]
  },
  {
   "cell_type": "code",
   "execution_count": 33,
   "metadata": {},
   "outputs": [],
   "source": [
    "import scipy.misc"
   ]
  },
  {
   "cell_type": "code",
   "execution_count": 34,
   "metadata": {},
   "outputs": [],
   "source": [
    "imageio.imwrite('~/git/acetherace.github.io/images/vae/datagen_final.png', \n",
    "                viz_helper_2d.datagen_tracking_imgs[-1])"
   ]
  },
  {
   "cell_type": "code",
   "execution_count": null,
   "metadata": {},
   "outputs": [],
   "source": []
  }
 ],
 "metadata": {
  "kernelspec": {
   "display_name": "anaconda3",
   "language": "python",
   "name": "anaconda3"
  },
  "language_info": {
   "codemirror_mode": {
    "name": "ipython",
    "version": 3
   },
   "file_extension": ".py",
   "mimetype": "text/x-python",
   "name": "python",
   "nbconvert_exporter": "python",
   "pygments_lexer": "ipython3",
   "version": "3.6.8"
  }
 },
 "nbformat": 4,
 "nbformat_minor": 2
}
