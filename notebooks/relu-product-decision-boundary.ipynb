{
 "cells": [
  {
   "cell_type": "code",
   "execution_count": 37,
   "metadata": {},
   "outputs": [],
   "source": [
    "import numpy as np\n",
    "from itertools import combinations, product\n",
    "import matplotlib.pyplot as plt"
   ]
  },
  {
   "cell_type": "code",
   "execution_count": 31,
   "metadata": {},
   "outputs": [],
   "source": [
    "def relu(z): return z * (z>0)\n",
    "def classify(x):\n",
    "    z = w@x + b\n",
    "    a = relu(z)\n",
    "    return int(a.prod() > 0)"
   ]
  },
  {
   "cell_type": "code",
   "execution_count": 32,
   "metadata": {},
   "outputs": [],
   "source": [
    "w = np.asarray([\n",
    "    [-2, 1],\n",
    "    [2, 1],\n",
    "    [-1, -2],\n",
    "    [2, -1]\n",
    "])\n",
    "\n",
    "b = np.asarray([\n",
    "    -4,\n",
    "    4,\n",
    "    4,\n",
    "    9\n",
    "])"
   ]
  },
  {
   "cell_type": "code",
   "execution_count": 39,
   "metadata": {},
   "outputs": [
    {
     "data": {
      "text/plain": [
       "10000"
      ]
     },
     "execution_count": 39,
     "metadata": {},
     "output_type": "execute_result"
    }
   ],
   "source": [
    "coords = np.linspace(-5, 5, 100)\n",
    "combs = list(product(coords, coords))\n",
    "len(combs)"
   ]
  },
  {
   "cell_type": "code",
   "execution_count": 40,
   "metadata": {},
   "outputs": [
    {
     "data": {
      "image/png": "[encoded data removed]",
      "text/plain": [
       "<Figure size 432x288 with 1 Axes>"
      ]
     },
     "metadata": {
      "needs_background": "light"
     },
     "output_type": "display_data"
    }
   ],
   "source": [
    "fig, ax = plt.subplots()\n",
    "pos_x, pos_y, neg_x, neg_y = [],[],[],[]\n",
    "for x,y in combs:\n",
    "    clas = classify(np.array([x,y]))\n",
    "    if clas == 1:\n",
    "        pos_x.append(x); pos_y.append(y)\n",
    "    elif clas == 0:\n",
    "        neg_x.append(x); neg_y.append(y)\n",
    "ax.scatter(pos_x, pos_y, color='tab:red')\n",
    "ax.scatter(neg_x, neg_y, color='tab:blue')\n",
    "plt.show()"
   ]
  }
 ],
 "metadata": {
  "kernelspec": {
   "display_name": "anaconda3",
   "language": "python",
   "name": "anaconda3"
  },
  "language_info": {
   "codemirror_mode": {
    "name": "ipython",
    "version": 3
   },
   "file_extension": ".py",
   "mimetype": "text/x-python",
   "name": "python",
   "nbconvert_exporter": "python",
   "pygments_lexer": "ipython3",
   "version": "3.6.8"
  }
 },
 "nbformat": 4,
 "nbformat_minor": 2
}
